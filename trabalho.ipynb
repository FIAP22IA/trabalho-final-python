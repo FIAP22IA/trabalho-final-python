{
 "cells": [
  {
   "cell_type": "markdown",
   "metadata": {},
   "source": []
  },
  {
   "cell_type": "code",
   "execution_count": 82,
   "metadata": {},
   "outputs": [],
   "source": [
    "#disable warnings\n",
    "import warnings\n",
    "warnings.filterwarnings('ignore')"
   ]
  },
  {
   "cell_type": "code",
   "execution_count": 83,
   "metadata": {},
   "outputs": [],
   "source": [
    "# import libs\n",
    "import sklearn.linear_model as L\n",
    "from sklearn.metrics import mean_squared_error\n",
    "from sklearn.model_selection import train_test_split\n",
    "from sklearn.preprocessing import MinMaxScaler\n",
    "from functools import reduce\n",
    "import pandas as P\n",
    "import numpy as N\n",
    "import re as R\n",
    "from scipy.stats import pointbiserialr"
   ]
  },
  {
   "cell_type": "code",
   "execution_count": 84,
   "metadata": {},
   "outputs": [],
   "source": [
    "import matplotlib.pyplot as PP\n",
    "import seaborn as S\n",
    "\n",
    "PP.style.use('seaborn-dark')"
   ]
  },
  {
   "cell_type": "code",
   "execution_count": 85,
   "metadata": {},
   "outputs": [],
   "source": [
    "# helpers\n",
    "o = lambda f: lambda g: lambda x: f(g(x))\n",
    "fit = lambda X: lambda Y:  L.LinearRegression().fit(X, Y)\n",
    "predict = lambda X: lambda R: R.predict(X)\n",
    "RMSE = lambda Y: lambda P: mean_squared_error(Y, P, squared=False)\n",
    "get_dummies = lambda X: P.get_dummies(X, drop_first=True)\n",
    "drop_column = lambda c: lambda X: X.drop(c, axis=1)\n",
    "split_sample = lambda X, **kwargs1: lambda Y, **kwargs2: train_test_split(X, Y, **{ 'test_size': 0.2, 'random_state': 42, **kwargs1, **kwargs2 })\n",
    "\n",
    "def predictofit (S, **kwargs):\n",
    "    X_train, X_test, Y_train, Y_test = S\n",
    "    return predict(X_test)(fit(X_train)(Y_train))\n",
    "def show_RMSE (X, Y, **kwargs):\n",
    "    S = split_sample(X)(Y, **kwargs)\n",
    "    X_train, X_test ,Y_train, Y_test = S\n",
    "    print('RMSE: ', RMSE(Y_test)(predictofit(S, **kwargs)))\n",
    "\n",
    "def tableIO (file):\n",
    "    table = P.read_csv(file)\n",
    "    table = table.dropna()\n",
    "    X = table.drop(['median_house_value'], axis=1)\n",
    "    Y = table['median_house_value']\n",
    "    def initialXY():\n",
    "        return (X.copy(), Y.copy())\n",
    "    return (table.copy(), initialXY)"
   ]
  },
  {
   "cell_type": "code",
   "execution_count": 86,
   "metadata": {},
   "outputs": [],
   "source": [
    "# initialize environment\n",
    "table, initialXY = tableIO('housing.csv')\n",
    "\n",
    "X, Y = initialXY()"
   ]
  },
  {
   "cell_type": "code",
   "execution_count": 87,
   "metadata": {},
   "outputs": [
    {
     "data": {
      "text/html": [
       "<div>\n",
       "<style scoped>\n",
       "    .dataframe tbody tr th:only-of-type {\n",
       "        vertical-align: middle;\n",
       "    }\n",
       "\n",
       "    .dataframe tbody tr th {\n",
       "        vertical-align: top;\n",
       "    }\n",
       "\n",
       "    .dataframe thead th {\n",
       "        text-align: right;\n",
       "    }\n",
       "</style>\n",
       "<table border=\"1\" class=\"dataframe\">\n",
       "  <thead>\n",
       "    <tr style=\"text-align: right;\">\n",
       "      <th></th>\n",
       "      <th>longitude</th>\n",
       "      <th>latitude</th>\n",
       "      <th>housing_median_age</th>\n",
       "      <th>total_rooms</th>\n",
       "      <th>total_bedrooms</th>\n",
       "      <th>population</th>\n",
       "      <th>households</th>\n",
       "      <th>median_income</th>\n",
       "      <th>median_house_value</th>\n",
       "      <th>ocean_proximity</th>\n",
       "    </tr>\n",
       "  </thead>\n",
       "  <tbody>\n",
       "    <tr>\n",
       "      <th>0</th>\n",
       "      <td>-122.23</td>\n",
       "      <td>37.88</td>\n",
       "      <td>41.0</td>\n",
       "      <td>880.0</td>\n",
       "      <td>129.0</td>\n",
       "      <td>322.0</td>\n",
       "      <td>126.0</td>\n",
       "      <td>8.3252</td>\n",
       "      <td>452600.0</td>\n",
       "      <td>NEAR BAY</td>\n",
       "    </tr>\n",
       "    <tr>\n",
       "      <th>1</th>\n",
       "      <td>-122.22</td>\n",
       "      <td>37.86</td>\n",
       "      <td>21.0</td>\n",
       "      <td>7099.0</td>\n",
       "      <td>1106.0</td>\n",
       "      <td>2401.0</td>\n",
       "      <td>1138.0</td>\n",
       "      <td>8.3014</td>\n",
       "      <td>358500.0</td>\n",
       "      <td>NEAR BAY</td>\n",
       "    </tr>\n",
       "    <tr>\n",
       "      <th>2</th>\n",
       "      <td>-122.24</td>\n",
       "      <td>37.85</td>\n",
       "      <td>52.0</td>\n",
       "      <td>1467.0</td>\n",
       "      <td>190.0</td>\n",
       "      <td>496.0</td>\n",
       "      <td>177.0</td>\n",
       "      <td>7.2574</td>\n",
       "      <td>352100.0</td>\n",
       "      <td>NEAR BAY</td>\n",
       "    </tr>\n",
       "    <tr>\n",
       "      <th>3</th>\n",
       "      <td>-122.25</td>\n",
       "      <td>37.85</td>\n",
       "      <td>52.0</td>\n",
       "      <td>1274.0</td>\n",
       "      <td>235.0</td>\n",
       "      <td>558.0</td>\n",
       "      <td>219.0</td>\n",
       "      <td>5.6431</td>\n",
       "      <td>341300.0</td>\n",
       "      <td>NEAR BAY</td>\n",
       "    </tr>\n",
       "    <tr>\n",
       "      <th>4</th>\n",
       "      <td>-122.25</td>\n",
       "      <td>37.85</td>\n",
       "      <td>52.0</td>\n",
       "      <td>1627.0</td>\n",
       "      <td>280.0</td>\n",
       "      <td>565.0</td>\n",
       "      <td>259.0</td>\n",
       "      <td>3.8462</td>\n",
       "      <td>342200.0</td>\n",
       "      <td>NEAR BAY</td>\n",
       "    </tr>\n",
       "  </tbody>\n",
       "</table>\n",
       "</div>"
      ],
      "text/plain": [
       "   longitude  latitude  housing_median_age  total_rooms  total_bedrooms  \\\n",
       "0    -122.23     37.88                41.0        880.0           129.0   \n",
       "1    -122.22     37.86                21.0       7099.0          1106.0   \n",
       "2    -122.24     37.85                52.0       1467.0           190.0   \n",
       "3    -122.25     37.85                52.0       1274.0           235.0   \n",
       "4    -122.25     37.85                52.0       1627.0           280.0   \n",
       "\n",
       "   population  households  median_income  median_house_value ocean_proximity  \n",
       "0       322.0       126.0         8.3252            452600.0        NEAR BAY  \n",
       "1      2401.0      1138.0         8.3014            358500.0        NEAR BAY  \n",
       "2       496.0       177.0         7.2574            352100.0        NEAR BAY  \n",
       "3       558.0       219.0         5.6431            341300.0        NEAR BAY  \n",
       "4       565.0       259.0         3.8462            342200.0        NEAR BAY  "
      ]
     },
     "execution_count": 87,
     "metadata": {},
     "output_type": "execute_result"
    }
   ],
   "source": [
    "table.head()"
   ]
  },
  {
   "cell_type": "code",
   "execution_count": 88,
   "metadata": {},
   "outputs": [
    {
     "name": "stdout",
     "output_type": "stream",
     "text": [
      "(rows, columns): (20433, 10) \n",
      "\n",
      "tipo dos dados:\n",
      "\n",
      " longitude             float64\n",
      "latitude              float64\n",
      "housing_median_age    float64\n",
      "total_rooms           float64\n",
      "total_bedrooms        float64\n",
      "population            float64\n",
      "households            float64\n",
      "median_income         float64\n",
      "median_house_value    float64\n",
      "ocean_proximity        object\n",
      "dtype: object \n",
      "\n",
      "valores da coluna com valores categoricos \"ocean_proximity\" ['NEAR BAY' '<1H OCEAN' 'INLAND' 'NEAR OCEAN' 'ISLAND'] \n",
      "\n"
     ]
    }
   ],
   "source": [
    "# structure description\n",
    "print('(rows, columns):', table.shape, '\\n')\n",
    "print('tipo dos dados:\\n\\n', table.dtypes, '\\n' )\n",
    "print('valores da coluna com valores categoricos \"ocean_proximity\"', table['ocean_proximity'].unique(), '\\n')"
   ]
  },
  {
   "cell_type": "code",
   "execution_count": 89,
   "metadata": {},
   "outputs": [
    {
     "name": "stdout",
     "output_type": "stream",
     "text": [
      "<1H OCEAN \n",
      " house value mean:  240267.99081248615 \n",
      "\n",
      "INLAND \n",
      " house value mean:  124896.86314655172 \n",
      "\n",
      "ISLAND \n",
      " house value mean:  380440.0 \n",
      "\n",
      "NEAR BAY \n",
      " house value mean:  259279.29207048457 \n",
      "\n",
      "NEAR OCEAN \n",
      " house value mean:  249042.35502283106 \n",
      "\n"
     ]
    }
   ],
   "source": [
    "# median house value mean groupped by ocean proximity\n",
    "ocean_proximity_group = table.groupby(['ocean_proximity'])\n",
    "house_value_mean_by_ocean_proximity = [(k, op['median_house_value'].mean()) for k,op in ocean_proximity_group]\n",
    "\n",
    "for t in house_value_mean_by_ocean_proximity:\n",
    "    print(t[0], '\\n house value mean: ', t[1], '\\n')"
   ]
  },
  {
   "cell_type": "code",
   "execution_count": 90,
   "metadata": {},
   "outputs": [
    {
     "name": "stdout",
     "output_type": "stream",
     "text": [
      "latitude             -0.144638\n",
      "longitude            -0.045398\n",
      "population           -0.025300\n",
      "total_bedrooms        0.049686\n",
      "households            0.064894\n",
      "housing_median_age    0.106432\n",
      "total_rooms           0.133294\n",
      "median_income         0.688355\n",
      "dtype: float64\n"
     ]
    }
   ],
   "source": [
    "# continuous data correlation with median house value\n",
    "numeric_columns = table.select_dtypes(['float64', 'int64'])\n",
    "corr = numeric_columns.loc[:, numeric_columns.columns != 'median_house_value'].corrwith(numeric_columns['median_house_value'])\n",
    "print(corr.sort_values())"
   ]
  },
  {
   "cell_type": "code",
   "execution_count": 91,
   "metadata": {},
   "outputs": [
    {
     "data": {
      "text/plain": [
       "longitude                    -0.045398\n",
       "latitude                     -0.144638\n",
       "housing_median_age            0.106432\n",
       "total_rooms                   0.133294\n",
       "total_bedrooms                0.049686\n",
       "population                   -0.025300\n",
       "households                    0.064894\n",
       "median_income                 0.688355\n",
       "ocean_proximity_INLAND       -0.484787\n",
       "ocean_proximity_ISLAND        0.023525\n",
       "ocean_proximity_NEAR BAY      0.160526\n",
       "ocean_proximity_NEAR OCEAN    0.140378\n",
       "dtype: float64"
      ]
     },
     "execution_count": 91,
     "metadata": {},
     "output_type": "execute_result"
    }
   ],
   "source": [
    "# correlation with dummies\n",
    "_X, _Y = initialXY()\n",
    "_X = get_dummies(_X)\n",
    "_X.corrwith(_Y)"
   ]
  },
  {
   "cell_type": "code",
   "execution_count": 92,
   "metadata": {},
   "outputs": [
    {
     "data": {
      "text/html": [
       "<div>\n",
       "<style scoped>\n",
       "    .dataframe tbody tr th:only-of-type {\n",
       "        vertical-align: middle;\n",
       "    }\n",
       "\n",
       "    .dataframe tbody tr th {\n",
       "        vertical-align: top;\n",
       "    }\n",
       "\n",
       "    .dataframe thead th {\n",
       "        text-align: right;\n",
       "    }\n",
       "</style>\n",
       "<table border=\"1\" class=\"dataframe\">\n",
       "  <thead>\n",
       "    <tr style=\"text-align: right;\">\n",
       "      <th></th>\n",
       "      <th>longitude</th>\n",
       "      <th>latitude</th>\n",
       "      <th>housing_median_age</th>\n",
       "      <th>total_rooms</th>\n",
       "      <th>total_bedrooms</th>\n",
       "      <th>population</th>\n",
       "      <th>households</th>\n",
       "      <th>median_income</th>\n",
       "      <th>ocean_proximity</th>\n",
       "    </tr>\n",
       "  </thead>\n",
       "  <tbody>\n",
       "    <tr>\n",
       "      <th>0</th>\n",
       "      <td>-122.23</td>\n",
       "      <td>37.88</td>\n",
       "      <td>41.0</td>\n",
       "      <td>880.0</td>\n",
       "      <td>129.0</td>\n",
       "      <td>322.0</td>\n",
       "      <td>126.0</td>\n",
       "      <td>8.3252</td>\n",
       "      <td>NEAR BAY</td>\n",
       "    </tr>\n",
       "    <tr>\n",
       "      <th>1</th>\n",
       "      <td>-122.22</td>\n",
       "      <td>37.86</td>\n",
       "      <td>21.0</td>\n",
       "      <td>7099.0</td>\n",
       "      <td>1106.0</td>\n",
       "      <td>2401.0</td>\n",
       "      <td>1138.0</td>\n",
       "      <td>8.3014</td>\n",
       "      <td>NEAR BAY</td>\n",
       "    </tr>\n",
       "    <tr>\n",
       "      <th>2</th>\n",
       "      <td>-122.24</td>\n",
       "      <td>37.85</td>\n",
       "      <td>52.0</td>\n",
       "      <td>1467.0</td>\n",
       "      <td>190.0</td>\n",
       "      <td>496.0</td>\n",
       "      <td>177.0</td>\n",
       "      <td>7.2574</td>\n",
       "      <td>NEAR BAY</td>\n",
       "    </tr>\n",
       "    <tr>\n",
       "      <th>3</th>\n",
       "      <td>-122.25</td>\n",
       "      <td>37.85</td>\n",
       "      <td>52.0</td>\n",
       "      <td>1274.0</td>\n",
       "      <td>235.0</td>\n",
       "      <td>558.0</td>\n",
       "      <td>219.0</td>\n",
       "      <td>5.6431</td>\n",
       "      <td>NEAR BAY</td>\n",
       "    </tr>\n",
       "    <tr>\n",
       "      <th>4</th>\n",
       "      <td>-122.25</td>\n",
       "      <td>37.85</td>\n",
       "      <td>52.0</td>\n",
       "      <td>1627.0</td>\n",
       "      <td>280.0</td>\n",
       "      <td>565.0</td>\n",
       "      <td>259.0</td>\n",
       "      <td>3.8462</td>\n",
       "      <td>NEAR BAY</td>\n",
       "    </tr>\n",
       "  </tbody>\n",
       "</table>\n",
       "</div>"
      ],
      "text/plain": [
       "   longitude  latitude  housing_median_age  total_rooms  total_bedrooms  \\\n",
       "0    -122.23     37.88                41.0        880.0           129.0   \n",
       "1    -122.22     37.86                21.0       7099.0          1106.0   \n",
       "2    -122.24     37.85                52.0       1467.0           190.0   \n",
       "3    -122.25     37.85                52.0       1274.0           235.0   \n",
       "4    -122.25     37.85                52.0       1627.0           280.0   \n",
       "\n",
       "   population  households  median_income ocean_proximity  \n",
       "0       322.0       126.0         8.3252        NEAR BAY  \n",
       "1      2401.0      1138.0         8.3014        NEAR BAY  \n",
       "2       496.0       177.0         7.2574        NEAR BAY  \n",
       "3       558.0       219.0         5.6431        NEAR BAY  \n",
       "4       565.0       259.0         3.8462        NEAR BAY  "
      ]
     },
     "execution_count": 92,
     "metadata": {},
     "output_type": "execute_result"
    }
   ],
   "source": [
    "X.head()"
   ]
  },
  {
   "cell_type": "code",
   "execution_count": 93,
   "metadata": {},
   "outputs": [
    {
     "data": {
      "text/plain": [
       "0    452600.0\n",
       "1    358500.0\n",
       "2    352100.0\n",
       "3    341300.0\n",
       "4    342200.0\n",
       "Name: median_house_value, dtype: float64"
      ]
     },
     "execution_count": 93,
     "metadata": {},
     "output_type": "execute_result"
    }
   ],
   "source": [
    "Y.head()"
   ]
  },
  {
   "cell_type": "code",
   "execution_count": 94,
   "metadata": {},
   "outputs": [
    {
     "data": {
      "text/html": [
       "<div>\n",
       "<style scoped>\n",
       "    .dataframe tbody tr th:only-of-type {\n",
       "        vertical-align: middle;\n",
       "    }\n",
       "\n",
       "    .dataframe tbody tr th {\n",
       "        vertical-align: top;\n",
       "    }\n",
       "\n",
       "    .dataframe thead th {\n",
       "        text-align: right;\n",
       "    }\n",
       "</style>\n",
       "<table border=\"1\" class=\"dataframe\">\n",
       "  <thead>\n",
       "    <tr style=\"text-align: right;\">\n",
       "      <th></th>\n",
       "      <th>longitude</th>\n",
       "      <th>latitude</th>\n",
       "      <th>housing_median_age</th>\n",
       "      <th>total_rooms</th>\n",
       "      <th>total_bedrooms</th>\n",
       "      <th>population</th>\n",
       "      <th>households</th>\n",
       "      <th>median_income</th>\n",
       "    </tr>\n",
       "  </thead>\n",
       "  <tbody>\n",
       "    <tr>\n",
       "      <th>count</th>\n",
       "      <td>20433.000000</td>\n",
       "      <td>20433.000000</td>\n",
       "      <td>20433.000000</td>\n",
       "      <td>20433.000000</td>\n",
       "      <td>20433.000000</td>\n",
       "      <td>20433.000000</td>\n",
       "      <td>20433.000000</td>\n",
       "      <td>20433.000000</td>\n",
       "    </tr>\n",
       "    <tr>\n",
       "      <th>mean</th>\n",
       "      <td>-119.570689</td>\n",
       "      <td>35.633221</td>\n",
       "      <td>28.633094</td>\n",
       "      <td>2636.504233</td>\n",
       "      <td>537.870553</td>\n",
       "      <td>1424.946949</td>\n",
       "      <td>499.433465</td>\n",
       "      <td>3.871162</td>\n",
       "    </tr>\n",
       "    <tr>\n",
       "      <th>std</th>\n",
       "      <td>2.003578</td>\n",
       "      <td>2.136348</td>\n",
       "      <td>12.591805</td>\n",
       "      <td>2185.269567</td>\n",
       "      <td>421.385070</td>\n",
       "      <td>1133.208490</td>\n",
       "      <td>382.299226</td>\n",
       "      <td>1.899291</td>\n",
       "    </tr>\n",
       "    <tr>\n",
       "      <th>min</th>\n",
       "      <td>-124.350000</td>\n",
       "      <td>32.540000</td>\n",
       "      <td>1.000000</td>\n",
       "      <td>2.000000</td>\n",
       "      <td>1.000000</td>\n",
       "      <td>3.000000</td>\n",
       "      <td>1.000000</td>\n",
       "      <td>0.499900</td>\n",
       "    </tr>\n",
       "    <tr>\n",
       "      <th>25%</th>\n",
       "      <td>-121.800000</td>\n",
       "      <td>33.930000</td>\n",
       "      <td>18.000000</td>\n",
       "      <td>1450.000000</td>\n",
       "      <td>296.000000</td>\n",
       "      <td>787.000000</td>\n",
       "      <td>280.000000</td>\n",
       "      <td>2.563700</td>\n",
       "    </tr>\n",
       "    <tr>\n",
       "      <th>50%</th>\n",
       "      <td>-118.490000</td>\n",
       "      <td>34.260000</td>\n",
       "      <td>29.000000</td>\n",
       "      <td>2127.000000</td>\n",
       "      <td>435.000000</td>\n",
       "      <td>1166.000000</td>\n",
       "      <td>409.000000</td>\n",
       "      <td>3.536500</td>\n",
       "    </tr>\n",
       "    <tr>\n",
       "      <th>75%</th>\n",
       "      <td>-118.010000</td>\n",
       "      <td>37.720000</td>\n",
       "      <td>37.000000</td>\n",
       "      <td>3143.000000</td>\n",
       "      <td>647.000000</td>\n",
       "      <td>1722.000000</td>\n",
       "      <td>604.000000</td>\n",
       "      <td>4.744000</td>\n",
       "    </tr>\n",
       "    <tr>\n",
       "      <th>max</th>\n",
       "      <td>-114.310000</td>\n",
       "      <td>41.950000</td>\n",
       "      <td>52.000000</td>\n",
       "      <td>39320.000000</td>\n",
       "      <td>6445.000000</td>\n",
       "      <td>35682.000000</td>\n",
       "      <td>6082.000000</td>\n",
       "      <td>15.000100</td>\n",
       "    </tr>\n",
       "  </tbody>\n",
       "</table>\n",
       "</div>"
      ],
      "text/plain": [
       "          longitude      latitude  housing_median_age   total_rooms  \\\n",
       "count  20433.000000  20433.000000        20433.000000  20433.000000   \n",
       "mean    -119.570689     35.633221           28.633094   2636.504233   \n",
       "std        2.003578      2.136348           12.591805   2185.269567   \n",
       "min     -124.350000     32.540000            1.000000      2.000000   \n",
       "25%     -121.800000     33.930000           18.000000   1450.000000   \n",
       "50%     -118.490000     34.260000           29.000000   2127.000000   \n",
       "75%     -118.010000     37.720000           37.000000   3143.000000   \n",
       "max     -114.310000     41.950000           52.000000  39320.000000   \n",
       "\n",
       "       total_bedrooms    population    households  median_income  \n",
       "count    20433.000000  20433.000000  20433.000000   20433.000000  \n",
       "mean       537.870553   1424.946949    499.433465       3.871162  \n",
       "std        421.385070   1133.208490    382.299226       1.899291  \n",
       "min          1.000000      3.000000      1.000000       0.499900  \n",
       "25%        296.000000    787.000000    280.000000       2.563700  \n",
       "50%        435.000000   1166.000000    409.000000       3.536500  \n",
       "75%        647.000000   1722.000000    604.000000       4.744000  \n",
       "max       6445.000000  35682.000000   6082.000000      15.000100  "
      ]
     },
     "execution_count": 94,
     "metadata": {},
     "output_type": "execute_result"
    }
   ],
   "source": [
    "X.describe()"
   ]
  },
  {
   "cell_type": "code",
   "execution_count": 95,
   "metadata": {},
   "outputs": [
    {
     "data": {
      "text/plain": [
       "count     20433.000000\n",
       "mean     206864.413155\n",
       "std      115435.667099\n",
       "min       14999.000000\n",
       "25%      119500.000000\n",
       "50%      179700.000000\n",
       "75%      264700.000000\n",
       "max      500001.000000\n",
       "Name: median_house_value, dtype: float64"
      ]
     },
     "execution_count": 95,
     "metadata": {},
     "output_type": "execute_result"
    }
   ],
   "source": [
    "Y.describe()"
   ]
  },
  {
   "cell_type": "code",
   "execution_count": 96,
   "metadata": {},
   "outputs": [
    {
     "name": "stdout",
     "output_type": "stream",
     "text": [
      "RMSE:  69297.7166911303\n"
     ]
    }
   ],
   "source": [
    "# RMSE with every column\n",
    "_X, _Y = initialXY()\n",
    "_X = get_dummies(_X)\n",
    "show_RMSE(_X, _Y)\n"
   ]
  },
  {
   "cell_type": "code",
   "execution_count": 97,
   "metadata": {},
   "outputs": [
    {
     "name": "stdout",
     "output_type": "stream",
     "text": [
      "RMSE:  70156.120457364\n"
     ]
    }
   ],
   "source": [
    "# RMSE but ocean_proximity\n",
    "_X, _Y = initialXY()\n",
    "_X = drop_column(['ocean_proximity'])(_X)\n",
    "show_RMSE(_X, _Y)"
   ]
  },
  {
   "cell_type": "code",
   "execution_count": 98,
   "metadata": {},
   "outputs": [
    {
     "name": "stdout",
     "output_type": "stream",
     "text": [
      "RMSE:  69214.20460374332\n"
     ]
    }
   ],
   "source": [
    "# RMSE: inland\n",
    "\n",
    "_X, _Y = initialXY()\n",
    "_X['inland'] = get_dummies(_X)['ocean_proximity_INLAND']\n",
    "_X = drop_column(['ocean_proximity'])(_X)\n",
    "\n",
    "show_RMSE(_X, _Y)"
   ]
  },
  {
   "cell_type": "code",
   "execution_count": 99,
   "metadata": {},
   "outputs": [
    {
     "name": "stdout",
     "output_type": "stream",
     "text": [
      "RMSE:  69214.20460374338\n"
     ]
    }
   ],
   "source": [
    "# RMSE: inverse inland\n",
    "\n",
    "_X, _Y = initialXY()\n",
    "_X['inland'] = N.invert(get_dummies(_X)['ocean_proximity_INLAND'])\n",
    "_X = drop_column(['ocean_proximity'])(_X)\n",
    "\n",
    "show_RMSE(_X, _Y)"
   ]
  },
  {
   "cell_type": "code",
   "execution_count": 100,
   "metadata": {},
   "outputs": [
    {
     "name": "stdout",
     "output_type": "stream",
     "text": [
      "RMSE:  69297.7166911303\n"
     ]
    }
   ],
   "source": [
    "_X, _Y = initialXY()\n",
    "_X = get_dummies(_X)\n",
    "show_RMSE(_X, _Y, random_state=42)"
   ]
  },
  {
   "cell_type": "code",
   "execution_count": 101,
   "metadata": {},
   "outputs": [
    {
     "name": "stdout",
     "output_type": "stream",
     "text": [
      "ocean_proximity_INLAND :\n",
      "PointbiserialrResult(correlation=-0.4847869526471506, pvalue=0.0)\n",
      "\n",
      "ocean_proximity_ISLAND :\n",
      "PointbiserialrResult(correlation=0.023525091989054323, pvalue=0.0007709157772743374)\n",
      "\n",
      "ocean_proximity_NEAR BAY :\n",
      "PointbiserialrResult(correlation=0.16052561205165197, pvalue=5.235348535917847e-118)\n",
      "\n",
      "ocean_proximity_NEAR OCEAN :\n",
      "PointbiserialrResult(correlation=0.14037755885592818, pvalue=1.9944193422294368e-90)\n",
      "\n"
     ]
    }
   ],
   "source": [
    "# pointbiserialr\n",
    "_X, _Y = initialXY()\n",
    "_X = get_dummies(_X[['ocean_proximity']])\n",
    "\n",
    "for col in _X.filter(regex=\"^ocean_proximity\"):\n",
    "    print(col, ':')\n",
    "    print(pointbiserialr(_X[col], _Y))\n",
    "    print()\n"
   ]
  },
  {
   "cell_type": "code",
   "execution_count": 102,
   "metadata": {},
   "outputs": [
    {
     "name": "stdout",
     "output_type": "stream",
     "text": [
      "RMSE:  84976.53325615863\n"
     ]
    }
   ],
   "source": [
    "X, Y = initialXY()\n",
    "X = X[['median_income']]\n",
    "show_RMSE(X, Y)\n"
   ]
  },
  {
   "cell_type": "code",
   "execution_count": 103,
   "metadata": {},
   "outputs": [
    {
     "data": {
      "text/plain": [
       "<AxesSubplot:xlabel='median_income', ylabel='median_house_value'>"
      ]
     },
     "execution_count": 103,
     "metadata": {},
     "output_type": "execute_result"
    },
    {
     "data": {
      "image/png": "[encoded data removed]",
      "text/plain": [
       "<Figure size 432x288 with 1 Axes>"
      ]
     },
     "metadata": {},
     "output_type": "display_data"
    }
   ],
   "source": [
    "from sklearn.preprocessing import MinMaxScaler\n",
    "\n",
    "X, Y = initialXY()\n",
    "X = get_dummies(X)\n",
    "clmns = X.columns \n",
    "scaler = MinMaxScaler().fit(X)\n",
    "X = scaler.transform(X)\n",
    "X = P.DataFrame(X, columns=clmns)\n",
    "\n",
    "table.plot.scatter(\"median_income\", \"median_house_value\")"
   ]
  },
  {
   "cell_type": "code",
   "execution_count": 104,
   "metadata": {},
   "outputs": [
    {
     "data": {
      "text/plain": [
       "<module 'pandas' from '/nix/store/3a6ardk55mlcynrs7hn4l4vynbm6wp7w-python3-3.9.10-env/lib/python3.9/site-packages/pandas/__init__.py'>"
      ]
     },
     "metadata": {},
     "output_type": "display_data"
    },
    {
     "data": {
      "image/png": "[encoded data removed]",
      "text/plain": [
       "<Figure size 648x648 with 1 Axes>"
      ]
     },
     "metadata": {},
     "output_type": "display_data"
    }
   ],
   "source": [
    "PP.figure(figsize=(9, 9))\n",
    "\n",
    "X, Y = initialXY()\n",
    "X = get_dummies(X)\n",
    "S.histplot(x=N.invert(X['ocean_proximity_INLAND']), discrete=True ).set_xlabel('is near ocean')\n",
    "display(P)"
   ]
  },
  {
   "cell_type": "code",
   "execution_count": 105,
   "metadata": {},
   "outputs": [
    {
     "data": {
      "text/plain": [
       "<module 'pandas' from '/nix/store/3a6ardk55mlcynrs7hn4l4vynbm6wp7w-python3-3.9.10-env/lib/python3.9/site-packages/pandas/__init__.py'>"
      ]
     },
     "metadata": {},
     "output_type": "display_data"
    },
    {
     "data": {
      "image/png": "[encoded data removed]",
      "text/plain": [
       "<Figure size 648x648 with 1 Axes>"
      ]
     },
     "metadata": {},
     "output_type": "display_data"
    }
   ],
   "source": [
    "\n",
    "PP.figure(figsize=(9, 9))\n",
    "\n",
    "X, Y = initialXY()\n",
    "S.histplot(x=X['median_income']).set_xlabel('median income')\n",
    "display(P)"
   ]
  },
  {
   "cell_type": "code",
   "execution_count": 106,
   "metadata": {},
   "outputs": [
    {
     "data": {
      "text/plain": [
       "<AxesSubplot:xlabel='median_income'>"
      ]
     },
     "execution_count": 106,
     "metadata": {},
     "output_type": "execute_result"
    },
    {
     "data": {
      "image/png": "[encoded data removed]",
      "text/plain": [
       "<Figure size 648x648 with 1 Axes>"
      ]
     },
     "metadata": {},
     "output_type": "display_data"
    }
   ],
   "source": [
    "PP.figure(figsize=(9, 9))\n",
    "\n",
    "X, Y = initialXY()\n",
    "S.boxplot(x=X['median_income'])"
   ]
  },
  {
   "cell_type": "code",
   "execution_count": 107,
   "metadata": {},
   "outputs": [
    {
     "data": {
      "text/plain": [
       "<seaborn.axisgrid.FacetGrid at 0x7f31b3400b50>"
      ]
     },
     "execution_count": 107,
     "metadata": {},
     "output_type": "execute_result"
    },
    {
     "data": {
      "text/plain": [
       "<Figure size 648x648 with 0 Axes>"
      ]
     },
     "metadata": {},
     "output_type": "display_data"
    },
    {
     "data": {
      "image/png": "[encoded data removed]",
      "text/plain": [
       "<Figure size 360x360 with 1 Axes>"
      ]
     },
     "metadata": {},
     "output_type": "display_data"
    }
   ],
   "source": [
    "p = PP.figure(figsize=(9, 9))\n",
    "X, Y = initialXY()\n",
    "T = X\n",
    "T['median_house_value'] = Y\n",
    "\n",
    "S.catplot(x=\"median_income\", kind=\"violin\", data=T)"
   ]
  },
  {
   "cell_type": "code",
   "execution_count": 108,
   "metadata": {},
   "outputs": [
    {
     "data": {
      "text/html": [
       "<div>\n",
       "<style scoped>\n",
       "    .dataframe tbody tr th:only-of-type {\n",
       "        vertical-align: middle;\n",
       "    }\n",
       "\n",
       "    .dataframe tbody tr th {\n",
       "        vertical-align: top;\n",
       "    }\n",
       "\n",
       "    .dataframe thead th {\n",
       "        text-align: right;\n",
       "    }\n",
       "</style>\n",
       "<table border=\"1\" class=\"dataframe\">\n",
       "  <thead>\n",
       "    <tr style=\"text-align: right;\">\n",
       "      <th></th>\n",
       "      <th>longitude</th>\n",
       "      <th>latitude</th>\n",
       "      <th>housing_median_age</th>\n",
       "      <th>total_rooms</th>\n",
       "      <th>total_bedrooms</th>\n",
       "      <th>population</th>\n",
       "      <th>households</th>\n",
       "      <th>median_income</th>\n",
       "      <th>median_house_value</th>\n",
       "      <th>ocean_proximity</th>\n",
       "    </tr>\n",
       "  </thead>\n",
       "  <tbody>\n",
       "    <tr>\n",
       "      <th>2688</th>\n",
       "      <td>0.858566</td>\n",
       "      <td>0.027630</td>\n",
       "      <td>0.843137</td>\n",
       "      <td>0.011954</td>\n",
       "      <td>0.012415</td>\n",
       "      <td>0.005690</td>\n",
       "      <td>0.009209</td>\n",
       "      <td>0.117819</td>\n",
       "      <td>0.162476</td>\n",
       "      <td>INLAND</td>\n",
       "    </tr>\n",
       "    <tr>\n",
       "      <th>19898</th>\n",
       "      <td>0.409363</td>\n",
       "      <td>0.575983</td>\n",
       "      <td>0.647059</td>\n",
       "      <td>0.044382</td>\n",
       "      <td>0.061142</td>\n",
       "      <td>0.026122</td>\n",
       "      <td>0.059365</td>\n",
       "      <td>0.077592</td>\n",
       "      <td>0.132785</td>\n",
       "      <td>INLAND</td>\n",
       "    </tr>\n",
       "    <tr>\n",
       "      <th>2033</th>\n",
       "      <td>0.460159</td>\n",
       "      <td>0.445271</td>\n",
       "      <td>0.117647</td>\n",
       "      <td>0.062541</td>\n",
       "      <td>0.100248</td>\n",
       "      <td>0.044396</td>\n",
       "      <td>0.090446</td>\n",
       "      <td>0.062123</td>\n",
       "      <td>0.432990</td>\n",
       "      <td>INLAND</td>\n",
       "    </tr>\n",
       "    <tr>\n",
       "      <th>10813</th>\n",
       "      <td>0.644422</td>\n",
       "      <td>0.126461</td>\n",
       "      <td>0.627451</td>\n",
       "      <td>0.058218</td>\n",
       "      <td>0.092024</td>\n",
       "      <td>0.090501</td>\n",
       "      <td>0.096695</td>\n",
       "      <td>0.186466</td>\n",
       "      <td>0.306186</td>\n",
       "      <td>&lt;1H OCEAN</td>\n",
       "    </tr>\n",
       "    <tr>\n",
       "      <th>15655</th>\n",
       "      <td>0.190239</td>\n",
       "      <td>0.554729</td>\n",
       "      <td>1.000000</td>\n",
       "      <td>0.053614</td>\n",
       "      <td>0.070298</td>\n",
       "      <td>0.022787</td>\n",
       "      <td>0.071863</td>\n",
       "      <td>0.235031</td>\n",
       "      <td>0.731958</td>\n",
       "      <td>NEAR BAY</td>\n",
       "    </tr>\n",
       "    <tr>\n",
       "      <th>7271</th>\n",
       "      <td>0.617530</td>\n",
       "      <td>0.150903</td>\n",
       "      <td>0.627451</td>\n",
       "      <td>0.030495</td>\n",
       "      <td>0.052607</td>\n",
       "      <td>0.041453</td>\n",
       "      <td>0.054761</td>\n",
       "      <td>0.136702</td>\n",
       "      <td>0.278351</td>\n",
       "      <td>&lt;1H OCEAN</td>\n",
       "    </tr>\n",
       "    <tr>\n",
       "      <th>16435</th>\n",
       "      <td>0.304781</td>\n",
       "      <td>0.550478</td>\n",
       "      <td>0.411765</td>\n",
       "      <td>0.041406</td>\n",
       "      <td>0.062539</td>\n",
       "      <td>0.123294</td>\n",
       "      <td>0.058707</td>\n",
       "      <td>0.102019</td>\n",
       "      <td>0.098971</td>\n",
       "      <td>INLAND</td>\n",
       "    </tr>\n",
       "    <tr>\n",
       "      <th>15846</th>\n",
       "      <td>0.187251</td>\n",
       "      <td>0.552604</td>\n",
       "      <td>1.000000</td>\n",
       "      <td>0.039066</td>\n",
       "      <td>0.047176</td>\n",
       "      <td>0.022871</td>\n",
       "      <td>0.052294</td>\n",
       "      <td>0.247217</td>\n",
       "      <td>0.656907</td>\n",
       "      <td>NEAR BAY</td>\n",
       "    </tr>\n",
       "    <tr>\n",
       "      <th>1188</th>\n",
       "      <td>0.268924</td>\n",
       "      <td>0.723698</td>\n",
       "      <td>0.450980</td>\n",
       "      <td>0.025459</td>\n",
       "      <td>0.038796</td>\n",
       "      <td>0.030690</td>\n",
       "      <td>0.037165</td>\n",
       "      <td>0.086571</td>\n",
       "      <td>0.147218</td>\n",
       "      <td>INLAND</td>\n",
       "    </tr>\n",
       "    <tr>\n",
       "      <th>13198</th>\n",
       "      <td>0.667331</td>\n",
       "      <td>0.161530</td>\n",
       "      <td>0.784314</td>\n",
       "      <td>0.029732</td>\n",
       "      <td>0.051676</td>\n",
       "      <td>0.041369</td>\n",
       "      <td>0.054761</td>\n",
       "      <td>0.120695</td>\n",
       "      <td>0.155672</td>\n",
       "      <td>INLAND</td>\n",
       "    </tr>\n",
       "  </tbody>\n",
       "</table>\n",
       "</div>"
      ],
      "text/plain": [
       "       longitude  latitude  housing_median_age  total_rooms  total_bedrooms  \\\n",
       "2688    0.858566  0.027630            0.843137     0.011954        0.012415   \n",
       "19898   0.409363  0.575983            0.647059     0.044382        0.061142   \n",
       "2033    0.460159  0.445271            0.117647     0.062541        0.100248   \n",
       "10813   0.644422  0.126461            0.627451     0.058218        0.092024   \n",
       "15655   0.190239  0.554729            1.000000     0.053614        0.070298   \n",
       "7271    0.617530  0.150903            0.627451     0.030495        0.052607   \n",
       "16435   0.304781  0.550478            0.411765     0.041406        0.062539   \n",
       "15846   0.187251  0.552604            1.000000     0.039066        0.047176   \n",
       "1188    0.268924  0.723698            0.450980     0.025459        0.038796   \n",
       "13198   0.667331  0.161530            0.784314     0.029732        0.051676   \n",
       "\n",
       "       population  households  median_income  median_house_value  \\\n",
       "2688     0.005690    0.009209       0.117819            0.162476   \n",
       "19898    0.026122    0.059365       0.077592            0.132785   \n",
       "2033     0.044396    0.090446       0.062123            0.432990   \n",
       "10813    0.090501    0.096695       0.186466            0.306186   \n",
       "15655    0.022787    0.071863       0.235031            0.731958   \n",
       "7271     0.041453    0.054761       0.136702            0.278351   \n",
       "16435    0.123294    0.058707       0.102019            0.098971   \n",
       "15846    0.022871    0.052294       0.247217            0.656907   \n",
       "1188     0.030690    0.037165       0.086571            0.147218   \n",
       "13198    0.041369    0.054761       0.120695            0.155672   \n",
       "\n",
       "      ocean_proximity  \n",
       "2688           INLAND  \n",
       "19898          INLAND  \n",
       "2033           INLAND  \n",
       "10813       <1H OCEAN  \n",
       "15655        NEAR BAY  \n",
       "7271        <1H OCEAN  \n",
       "16435          INLAND  \n",
       "15846        NEAR BAY  \n",
       "1188           INLAND  \n",
       "13198          INLAND  "
      ]
     },
     "execution_count": 108,
     "metadata": {},
     "output_type": "execute_result"
    },
    {
     "data": {
      "text/plain": [
       "<Figure size 648x648 with 0 Axes>"
      ]
     },
     "metadata": {},
     "output_type": "display_data"
    }
   ],
   "source": [
    "p = PP.figure(figsize=(9, 9))\n",
    "\n",
    "T = table.copy()\n",
    "# T = get_dummies(T)\n",
    "# T = P.DataFrame(MinMaxScaler().fit_transform(T), columns=T.columns)\n",
    "_T = drop_column(['ocean_proximity'])(T)\n",
    "_T = P.DataFrame(MinMaxScaler().fit_transform(_T), columns=_T.columns)\n",
    "_T['ocean_proximity'] = T['ocean_proximity']\n",
    "_T.sample(10)\n",
    "# S.catplot(x=\"median_income\", y='median_house_value', hue='ocean_proximity', data=_T)"
   ]
  },
  {
   "cell_type": "code",
   "execution_count": 109,
   "metadata": {},
   "outputs": [
    {
     "data": {
      "text/html": [
       "<div>\n",
       "<style scoped>\n",
       "    .dataframe tbody tr th:only-of-type {\n",
       "        vertical-align: middle;\n",
       "    }\n",
       "\n",
       "    .dataframe tbody tr th {\n",
       "        vertical-align: top;\n",
       "    }\n",
       "\n",
       "    .dataframe thead th {\n",
       "        text-align: right;\n",
       "    }\n",
       "</style>\n",
       "<table border=\"1\" class=\"dataframe\">\n",
       "  <thead>\n",
       "    <tr style=\"text-align: right;\">\n",
       "      <th></th>\n",
       "      <th>longitude</th>\n",
       "      <th>latitude</th>\n",
       "      <th>housing_median_age</th>\n",
       "      <th>total_rooms</th>\n",
       "      <th>total_bedrooms</th>\n",
       "      <th>population</th>\n",
       "      <th>households</th>\n",
       "      <th>median_income</th>\n",
       "      <th>ocean_proximity_INLAND</th>\n",
       "      <th>ocean_proximity_ISLAND</th>\n",
       "      <th>ocean_proximity_NEAR BAY</th>\n",
       "      <th>ocean_proximity_NEAR OCEAN</th>\n",
       "    </tr>\n",
       "  </thead>\n",
       "  <tbody>\n",
       "    <tr>\n",
       "      <th>count</th>\n",
       "      <td>20433.000000</td>\n",
       "      <td>20433.000000</td>\n",
       "      <td>20433.000000</td>\n",
       "      <td>20433.000000</td>\n",
       "      <td>20433.000000</td>\n",
       "      <td>20433.000000</td>\n",
       "      <td>20433.000000</td>\n",
       "      <td>20433.000000</td>\n",
       "      <td>20433.000000</td>\n",
       "      <td>20433.000000</td>\n",
       "      <td>20433.000000</td>\n",
       "      <td>20433.000000</td>\n",
       "    </tr>\n",
       "    <tr>\n",
       "      <th>mean</th>\n",
       "      <td>-119.570689</td>\n",
       "      <td>35.633221</td>\n",
       "      <td>28.633094</td>\n",
       "      <td>2636.504233</td>\n",
       "      <td>537.870553</td>\n",
       "      <td>1424.946949</td>\n",
       "      <td>499.433465</td>\n",
       "      <td>3.871162</td>\n",
       "      <td>0.317917</td>\n",
       "      <td>0.000245</td>\n",
       "      <td>0.111095</td>\n",
       "      <td>0.128615</td>\n",
       "    </tr>\n",
       "    <tr>\n",
       "      <th>std</th>\n",
       "      <td>2.003578</td>\n",
       "      <td>2.136348</td>\n",
       "      <td>12.591805</td>\n",
       "      <td>2185.269567</td>\n",
       "      <td>421.385070</td>\n",
       "      <td>1133.208490</td>\n",
       "      <td>382.299226</td>\n",
       "      <td>1.899291</td>\n",
       "      <td>0.465678</td>\n",
       "      <td>0.015641</td>\n",
       "      <td>0.314257</td>\n",
       "      <td>0.334782</td>\n",
       "    </tr>\n",
       "    <tr>\n",
       "      <th>min</th>\n",
       "      <td>-124.350000</td>\n",
       "      <td>32.540000</td>\n",
       "      <td>1.000000</td>\n",
       "      <td>2.000000</td>\n",
       "      <td>1.000000</td>\n",
       "      <td>3.000000</td>\n",
       "      <td>1.000000</td>\n",
       "      <td>0.499900</td>\n",
       "      <td>0.000000</td>\n",
       "      <td>0.000000</td>\n",
       "      <td>0.000000</td>\n",
       "      <td>0.000000</td>\n",
       "    </tr>\n",
       "    <tr>\n",
       "      <th>25%</th>\n",
       "      <td>-121.800000</td>\n",
       "      <td>33.930000</td>\n",
       "      <td>18.000000</td>\n",
       "      <td>1450.000000</td>\n",
       "      <td>296.000000</td>\n",
       "      <td>787.000000</td>\n",
       "      <td>280.000000</td>\n",
       "      <td>2.563700</td>\n",
       "      <td>0.000000</td>\n",
       "      <td>0.000000</td>\n",
       "      <td>0.000000</td>\n",
       "      <td>0.000000</td>\n",
       "    </tr>\n",
       "    <tr>\n",
       "      <th>50%</th>\n",
       "      <td>-118.490000</td>\n",
       "      <td>34.260000</td>\n",
       "      <td>29.000000</td>\n",
       "      <td>2127.000000</td>\n",
       "      <td>435.000000</td>\n",
       "      <td>1166.000000</td>\n",
       "      <td>409.000000</td>\n",
       "      <td>3.536500</td>\n",
       "      <td>0.000000</td>\n",
       "      <td>0.000000</td>\n",
       "      <td>0.000000</td>\n",
       "      <td>0.000000</td>\n",
       "    </tr>\n",
       "    <tr>\n",
       "      <th>75%</th>\n",
       "      <td>-118.010000</td>\n",
       "      <td>37.720000</td>\n",
       "      <td>37.000000</td>\n",
       "      <td>3143.000000</td>\n",
       "      <td>647.000000</td>\n",
       "      <td>1722.000000</td>\n",
       "      <td>604.000000</td>\n",
       "      <td>4.744000</td>\n",
       "      <td>1.000000</td>\n",
       "      <td>0.000000</td>\n",
       "      <td>0.000000</td>\n",
       "      <td>0.000000</td>\n",
       "    </tr>\n",
       "    <tr>\n",
       "      <th>max</th>\n",
       "      <td>-114.310000</td>\n",
       "      <td>41.950000</td>\n",
       "      <td>52.000000</td>\n",
       "      <td>39320.000000</td>\n",
       "      <td>6445.000000</td>\n",
       "      <td>35682.000000</td>\n",
       "      <td>6082.000000</td>\n",
       "      <td>15.000100</td>\n",
       "      <td>1.000000</td>\n",
       "      <td>1.000000</td>\n",
       "      <td>1.000000</td>\n",
       "      <td>1.000000</td>\n",
       "    </tr>\n",
       "  </tbody>\n",
       "</table>\n",
       "</div>"
      ],
      "text/plain": [
       "          longitude      latitude  housing_median_age   total_rooms  \\\n",
       "count  20433.000000  20433.000000        20433.000000  20433.000000   \n",
       "mean    -119.570689     35.633221           28.633094   2636.504233   \n",
       "std        2.003578      2.136348           12.591805   2185.269567   \n",
       "min     -124.350000     32.540000            1.000000      2.000000   \n",
       "25%     -121.800000     33.930000           18.000000   1450.000000   \n",
       "50%     -118.490000     34.260000           29.000000   2127.000000   \n",
       "75%     -118.010000     37.720000           37.000000   3143.000000   \n",
       "max     -114.310000     41.950000           52.000000  39320.000000   \n",
       "\n",
       "       total_bedrooms    population    households  median_income  \\\n",
       "count    20433.000000  20433.000000  20433.000000   20433.000000   \n",
       "mean       537.870553   1424.946949    499.433465       3.871162   \n",
       "std        421.385070   1133.208490    382.299226       1.899291   \n",
       "min          1.000000      3.000000      1.000000       0.499900   \n",
       "25%        296.000000    787.000000    280.000000       2.563700   \n",
       "50%        435.000000   1166.000000    409.000000       3.536500   \n",
       "75%        647.000000   1722.000000    604.000000       4.744000   \n",
       "max       6445.000000  35682.000000   6082.000000      15.000100   \n",
       "\n",
       "       ocean_proximity_INLAND  ocean_proximity_ISLAND  \\\n",
       "count            20433.000000            20433.000000   \n",
       "mean                 0.317917                0.000245   \n",
       "std                  0.465678                0.015641   \n",
       "min                  0.000000                0.000000   \n",
       "25%                  0.000000                0.000000   \n",
       "50%                  0.000000                0.000000   \n",
       "75%                  1.000000                0.000000   \n",
       "max                  1.000000                1.000000   \n",
       "\n",
       "       ocean_proximity_NEAR BAY  ocean_proximity_NEAR OCEAN  \n",
       "count              20433.000000                20433.000000  \n",
       "mean                   0.111095                    0.128615  \n",
       "std                    0.314257                    0.334782  \n",
       "min                    0.000000                    0.000000  \n",
       "25%                    0.000000                    0.000000  \n",
       "50%                    0.000000                    0.000000  \n",
       "75%                    0.000000                    0.000000  \n",
       "max                    1.000000                    1.000000  "
      ]
     },
     "execution_count": 109,
     "metadata": {},
     "output_type": "execute_result"
    }
   ],
   "source": [
    "X, Y = initialXY()\n",
    "X = get_dummies(X)\n",
    "\n",
    "X_train, X_test, Y_train, Y_test = train_test_split(X, Y, test_size=0.2, random_state=42)\n",
    "f = fit(X_train)(Y_train)\n",
    "p = predict(X_test)(f)\n",
    "X.describe()\n"
   ]
  },
  {
   "cell_type": "code",
   "execution_count": 110,
   "metadata": {},
   "outputs": [
    {
     "data": {
      "text/plain": [
       "array([[<AxesSubplot:title={'center':'median_income'}>,\n",
       "        <AxesSubplot:title={'center':'longitude'}>],\n",
       "       [<AxesSubplot:title={'center':'latitude'}>, <AxesSubplot:>]],\n",
       "      dtype=object)"
      ]
     },
     "execution_count": 110,
     "metadata": {},
     "output_type": "execute_result"
    },
    {
     "data": {
      "image/png": "[encoded data removed]",
      "text/plain": [
       "<Figure size 432x288 with 1 Axes>"
      ]
     },
     "metadata": {},
     "output_type": "display_data"
    },
    {
     "data": {
      "image/png": "[encoded data removed]",
      "text/plain": [
       "<Figure size 432x288 with 4 Axes>"
      ]
     },
     "metadata": {},
     "output_type": "display_data"
    }
   ],
   "source": [
    "# %%\n",
    "\n",
    "X, Y = initialXY()\n",
    "# X = drop_column(['ocean_proximity', 'latitude', 'longitude'])(X)\n",
    "Y.hist()\n",
    "# for k in X:\n",
    "#     X[[k]].hist()\n",
    "X[['median_income', 'longitude', 'latitude']].hist()"
   ]
  },
  {
   "cell_type": "code",
   "execution_count": 111,
   "metadata": {},
   "outputs": [
    {
     "name": "stdout",
     "output_type": "stream",
     "text": [
      "latitude             -0.144638\n",
      "longitude            -0.045398\n",
      "population           -0.025300\n",
      "total_bedrooms        0.049686\n",
      "households            0.064894\n",
      "housing_median_age    0.106432\n",
      "total_rooms           0.133294\n",
      "median_income         0.688355\n",
      "dtype: float64\n"
     ]
    }
   ],
   "source": [
    "# correlação\n",
    "numeric_columns = table.select_dtypes(['float64', 'int64'])\n",
    "corr = numeric_columns.loc[:, numeric_columns.columns != 'median_house_value'].corrwith(numeric_columns['median_house_value'])\n",
    "print(corr.sort_values())"
   ]
  },
  {
   "cell_type": "code",
   "execution_count": 112,
   "metadata": {},
   "outputs": [
    {
     "data": {
      "text/plain": [
       "0.6488402154431994"
      ]
     },
     "execution_count": 112,
     "metadata": {},
     "output_type": "execute_result"
    }
   ],
   "source": [
    "X, Y = initialXY()\n",
    "X = P.get_dummies(X, drop_first=True)\n",
    "X_train, X_test, Y_train, Y_test = split_sample(X)(Y)\n",
    "\n",
    "L.LinearRegression().fit(X_train, Y_train).score(X_test, Y_test)"
   ]
  },
  {
   "cell_type": "code",
   "execution_count": 114,
   "metadata": {},
   "outputs": [
    {
     "name": "stdout",
     "output_type": "stream",
     "text": [
      "(20433, 10)\n",
      "shape: (16719, 12) (16719,)\n"
     ]
    },
    {
     "data": {
      "text/plain": [
       "3081381525.730274"
      ]
     },
     "execution_count": 114,
     "metadata": {},
     "output_type": "execute_result"
    }
   ],
   "source": [
    "def remove_outliers (T, col):\n",
    "    t = T.copy()\n",
    "    c = T[col]\n",
    "    t = t.dropna()\n",
    "    Q3 = N.percentile(c, 75)\n",
    "    Q2 = N.percentile(c, 25)\n",
    "    IQR = Q3 - Q2\n",
    "\n",
    "    upper_bound = Q3 + 1.5 * IQR\n",
    "    lower_bound = Q2 - 1.5 * IQR\n",
    "    upper, = N.where(c >= upper_bound)\n",
    "    lower, = N.where(c <  lower_bound)\n",
    "\n",
    "    t.drop(t[t[col] >= upper_bound ].index, inplace=True)\n",
    "    t.drop(t[t[col] < lower_bound].index, inplace=True)\n",
    "\n",
    "    return t\n",
    "\n",
    "X, Y = initialXY()\n",
    "T = X\n",
    "T['median_house_value'] = Y\n",
    "print(T.shape)\n",
    "\n",
    "T = reduce(remove_outliers, T.select_dtypes(['float64', 'int64']).columns , T)\n",
    "# S.boxplot(T['median_house_value'])\n",
    "T = get_dummies(T)\n",
    "X = drop_column(['median_house_value'])(T)\n",
    "Y = T['median_house_value']\n",
    "\n",
    "print('shape:', X.shape, Y.shape)\n",
    "\n",
    "X_train, X_test, Y_train, Y_test = split_sample(X)(Y)\n",
    "\n",
    "mean_squared_error( Y_test , L.LinearRegression().fit(X_train, Y_train).predict(X_test))"
   ]
  },
  {
   "cell_type": "code",
   "execution_count": null,
   "metadata": {},
   "outputs": [],
   "source": [
    "def plot_"
   ]
  },
  {
   "cell_type": "code",
   "execution_count": null,
   "metadata": {},
   "outputs": [
    {
     "name": "stderr",
     "output_type": "stream",
     "text": [
      "/nix/store/3a6ardk55mlcynrs7hn4l4vynbm6wp7w-python3-3.9.10-env/lib/python3.9/site-packages/seaborn/distributions.py:2619: FutureWarning: `distplot` is a deprecated function and will be removed in a future version. Please adapt your code to use either `displot` (a figure-level function with similar flexibility) or `histplot` (an axes-level function for histograms).\n",
      "  warnings.warn(msg, FutureWarning)\n",
      "/nix/store/3a6ardk55mlcynrs7hn4l4vynbm6wp7w-python3-3.9.10-env/lib/python3.9/site-packages/seaborn/distributions.py:2619: FutureWarning: `distplot` is a deprecated function and will be removed in a future version. Please adapt your code to use either `displot` (a figure-level function with similar flexibility) or `histplot` (an axes-level function for histograms).\n",
      "  warnings.warn(msg, FutureWarning)\n",
      "/nix/store/3a6ardk55mlcynrs7hn4l4vynbm6wp7w-python3-3.9.10-env/lib/python3.9/site-packages/seaborn/_decorators.py:36: FutureWarning: Pass the following variable as a keyword arg: x. From version 0.12, the only valid positional argument will be `data`, and passing other arguments without an explicit keyword will result in an error or misinterpretation.\n",
      "  warnings.warn(\n",
      "/nix/store/3a6ardk55mlcynrs7hn4l4vynbm6wp7w-python3-3.9.10-env/lib/python3.9/site-packages/seaborn/_decorators.py:36: FutureWarning: Pass the following variable as a keyword arg: x. From version 0.12, the only valid positional argument will be `data`, and passing other arguments without an explicit keyword will result in an error or misinterpretation.\n",
      "  warnings.warn(\n"
     ]
    },
    {
     "data": {
      "image/png": "[encoded data removed]",
      "text/plain": [
       "<Figure size 1224x1224 with 4 Axes>"
      ]
     },
     "metadata": {},
     "output_type": "display_data"
    }
   ],
   "source": [
    "PP.figure(figsize=(17,17))\n",
    "PP.subplot(4,4,1)\n",
    "S.distplot(T['median_income'])\n",
    "PP.subplot(4,4,2)\n",
    "S.distplot(T['median_house_value'])\n",
    "PP.subplot(4,4,3)\n",
    "S.boxplot(T['median_income'])\n",
    "PP.subplot(4,4,4)\n",
    "S.boxplot(T['median_house_value'])\n",
    "PP.show()"
   ]
  },
  {
   "cell_type": "code",
   "execution_count": null,
   "metadata": {},
   "outputs": [
    {
     "name": "stderr",
     "output_type": "stream",
     "text": [
      "/nix/store/3a6ardk55mlcynrs7hn4l4vynbm6wp7w-python3-3.9.10-env/lib/python3.9/site-packages/seaborn/distributions.py:2619: FutureWarning: `distplot` is a deprecated function and will be removed in a future version. Please adapt your code to use either `displot` (a figure-level function with similar flexibility) or `histplot` (an axes-level function for histograms).\n",
      "  warnings.warn(msg, FutureWarning)\n",
      "/nix/store/3a6ardk55mlcynrs7hn4l4vynbm6wp7w-python3-3.9.10-env/lib/python3.9/site-packages/seaborn/distributions.py:2619: FutureWarning: `distplot` is a deprecated function and will be removed in a future version. Please adapt your code to use either `displot` (a figure-level function with similar flexibility) or `histplot` (an axes-level function for histograms).\n",
      "  warnings.warn(msg, FutureWarning)\n",
      "/nix/store/3a6ardk55mlcynrs7hn4l4vynbm6wp7w-python3-3.9.10-env/lib/python3.9/site-packages/seaborn/_decorators.py:36: FutureWarning: Pass the following variable as a keyword arg: x. From version 0.12, the only valid positional argument will be `data`, and passing other arguments without an explicit keyword will result in an error or misinterpretation.\n",
      "  warnings.warn(\n",
      "/nix/store/3a6ardk55mlcynrs7hn4l4vynbm6wp7w-python3-3.9.10-env/lib/python3.9/site-packages/seaborn/_decorators.py:36: FutureWarning: Pass the following variable as a keyword arg: x. From version 0.12, the only valid positional argument will be `data`, and passing other arguments without an explicit keyword will result in an error or misinterpretation.\n",
      "  warnings.warn(\n"
     ]
    },
    {
     "data": {
      "image/png": "[encoded data removed]",
      "text/plain": [
       "<Figure size 1152x1152 with 4 Axes>"
      ]
     },
     "metadata": {},
     "output_type": "display_data"
    }
   ],
   "source": [
    "T = table.copy()\n",
    "PP.figure(figsize=(16,16))\n",
    "PP.subplot(3,2,1)\n",
    "S.distplot(T['median_income'])\n",
    "PP.subplot(3,2,2)\n",
    "S.distplot(T['median_house_value'])\n",
    "PP.subplot(3,2,3)\n",
    "S.boxplot(T['median_income'])\n",
    "PP.subplot(3,2,4)\n",
    "S.boxplot(T['median_house_value'])\n",
    "PP.show()"
   ]
  },
  {
   "cell_type": "code",
   "execution_count": null,
   "metadata": {},
   "outputs": [
    {
     "name": "stdout",
     "output_type": "stream",
     "text": [
      "119600.0 264725.0\n",
      "bounds:  482412.5 -98087.5\n",
      "BEFORE\n",
      "shape: 0        452600.0\n",
      "1        358500.0\n",
      "2        352100.0\n",
      "3        341300.0\n",
      "4        342200.0\n",
      "           ...   \n",
      "20635     78100.0\n",
      "20636     77100.0\n",
      "20637     92300.0\n",
      "20638     84700.0\n",
      "20639     89400.0\n",
      "Name: median_house_value, Length: 20640, dtype: float64\n",
      "max 500001.0\n",
      "min 14999.0\n",
      "AFTER 0        452600.0\n",
      "1        358500.0\n",
      "2        352100.0\n",
      "3        341300.0\n",
      "4        342200.0\n",
      "           ...   \n",
      "20635     78100.0\n",
      "20636     77100.0\n",
      "20637     92300.0\n",
      "20638     84700.0\n",
      "20639     89400.0\n",
      "Name: median_house_value, Length: 20640, dtype: float64\n",
      "shape: 0        452600.0\n",
      "1        358500.0\n",
      "2        352100.0\n",
      "3        341300.0\n",
      "4        342200.0\n",
      "           ...   \n",
      "20635     78100.0\n",
      "20636     77100.0\n",
      "20637     92300.0\n",
      "20638     84700.0\n",
      "20639     89400.0\n",
      "Name: median_house_value, Length: 20640, dtype: float64\n",
      "max 500001.0\n",
      "min 14999.0\n"
     ]
    },
    {
     "name": "stderr",
     "output_type": "stream",
     "text": [
      "/nix/store/3a6ardk55mlcynrs7hn4l4vynbm6wp7w-python3-3.9.10-env/lib/python3.9/site-packages/seaborn/_decorators.py:36: FutureWarning: Pass the following variable as a keyword arg: x. From version 0.12, the only valid positional argument will be `data`, and passing other arguments without an explicit keyword will result in an error or misinterpretation.\n",
      "  warnings.warn(\n"
     ]
    },
    {
     "data": {
      "text/plain": [
       "0"
      ]
     },
     "execution_count": 1208,
     "metadata": {},
     "output_type": "execute_result"
    },
    {
     "data": {
      "image/png": "[encoded data removed]",
      "text/plain": [
       "<Figure size 432x288 with 1 Axes>"
      ]
     },
     "metadata": {},
     "output_type": "display_data"
    }
   ],
   "source": [
    "T = table.copy()\n",
    "median_income = T['median_house_value'].copy()\n",
    "Q3 = N.percentile(median_income, 75)\n",
    "Q2 = N.percentile(median_income, 25)\n",
    "print(Q2, Q3)\n",
    "IQR = Q3 - Q2\n",
    "\n",
    "upper_bound = Q3 + 1.5 * IQR\n",
    "lower_bound = Q2 - 1.5 * IQR\n",
    "\n",
    "print('bounds: ', upper_bound, lower_bound)\n",
    "\n",
    "upper, = N.where(median_income >= upper_bound)\n",
    "lower, = N.where(median_income <  lower_bound)\n",
    "\n",
    "print('BEFORE')\n",
    "print(\"shape:\", median_income)\n",
    "print(\"max\", median_income.max())\n",
    "print(\"min\", median_income.min())\n",
    "# median_income.drop(upper, inplace = True)\n",
    "# median_income.drop(lower, inplace = True)\n",
    "\n",
    "T['median_house_value'] = median_income.drop(upper)\n",
    "T['median_house_value']  = T['median_house_value'].fillna(upper_bound)\n",
    "\n",
    "\n",
    "T['median_house_value'] = median_income.drop(lower)\n",
    "T['median_house_value']  = T['median_house_value'].fillna(lower_bound)\n",
    "\n",
    "print(\"AFTER\", median_income)\n",
    "print(\"shape:\", median_income)\n",
    "print(\"max\", median_income.max())\n",
    "print(\"min\", median_income.min())\n",
    "\n",
    "S.boxplot(median_income)\n",
    "N.isnan(T['median_house_value']).sum()\n"
   ]
  },
  {
   "cell_type": "code",
   "execution_count": null,
   "metadata": {},
   "outputs": [
    {
     "name": "stdout",
     "output_type": "stream",
     "text": [
      "[   89   140   459 ... 20427 20436 20443]\n"
     ]
    },
    {
     "data": {
      "text/html": [
       "<div>\n",
       "<style scoped>\n",
       "    .dataframe tbody tr th:only-of-type {\n",
       "        vertical-align: middle;\n",
       "    }\n",
       "\n",
       "    .dataframe tbody tr th {\n",
       "        vertical-align: top;\n",
       "    }\n",
       "\n",
       "    .dataframe thead th {\n",
       "        text-align: right;\n",
       "    }\n",
       "</style>\n",
       "<table border=\"1\" class=\"dataframe\">\n",
       "  <thead>\n",
       "    <tr style=\"text-align: right;\">\n",
       "      <th></th>\n",
       "      <th>0</th>\n",
       "    </tr>\n",
       "  </thead>\n",
       "  <tbody>\n",
       "    <tr>\n",
       "      <th>0</th>\n",
       "      <td>89</td>\n",
       "    </tr>\n",
       "    <tr>\n",
       "      <th>1</th>\n",
       "      <td>140</td>\n",
       "    </tr>\n",
       "    <tr>\n",
       "      <th>2</th>\n",
       "      <td>459</td>\n",
       "    </tr>\n",
       "    <tr>\n",
       "      <th>3</th>\n",
       "      <td>489</td>\n",
       "    </tr>\n",
       "    <tr>\n",
       "      <th>4</th>\n",
       "      <td>493</td>\n",
       "    </tr>\n",
       "    <tr>\n",
       "      <th>...</th>\n",
       "      <td>...</td>\n",
       "    </tr>\n",
       "    <tr>\n",
       "      <th>1066</th>\n",
       "      <td>20422</td>\n",
       "    </tr>\n",
       "    <tr>\n",
       "      <th>1067</th>\n",
       "      <td>20426</td>\n",
       "    </tr>\n",
       "    <tr>\n",
       "      <th>1068</th>\n",
       "      <td>20427</td>\n",
       "    </tr>\n",
       "    <tr>\n",
       "      <th>1069</th>\n",
       "      <td>20436</td>\n",
       "    </tr>\n",
       "    <tr>\n",
       "      <th>1070</th>\n",
       "      <td>20443</td>\n",
       "    </tr>\n",
       "  </tbody>\n",
       "</table>\n",
       "<p>1071 rows × 1 columns</p>\n",
       "</div>"
      ],
      "text/plain": [
       "          0\n",
       "0        89\n",
       "1       140\n",
       "2       459\n",
       "3       489\n",
       "4       493\n",
       "...     ...\n",
       "1066  20422\n",
       "1067  20426\n",
       "1068  20427\n",
       "1069  20436\n",
       "1070  20443\n",
       "\n",
       "[1071 rows x 1 columns]"
      ]
     },
     "execution_count": 1154,
     "metadata": {},
     "output_type": "execute_result"
    }
   ],
   "source": [
    "print(upper)\n",
    "P.DataFrame(upper)"
   ]
  },
  {
   "cell_type": "code",
   "execution_count": null,
   "metadata": {},
   "outputs": [
    {
     "name": "stderr",
     "output_type": "stream",
     "text": [
      "/nix/store/3a6ardk55mlcynrs7hn4l4vynbm6wp7w-python3-3.9.10-env/lib/python3.9/site-packages/seaborn/distributions.py:2619: FutureWarning: `distplot` is a deprecated function and will be removed in a future version. Please adapt your code to use either `displot` (a figure-level function with similar flexibility) or `histplot` (an axes-level function for histograms).\n",
      "  warnings.warn(msg, FutureWarning)\n",
      "/nix/store/3a6ardk55mlcynrs7hn4l4vynbm6wp7w-python3-3.9.10-env/lib/python3.9/site-packages/seaborn/distributions.py:2619: FutureWarning: `distplot` is a deprecated function and will be removed in a future version. Please adapt your code to use either `displot` (a figure-level function with similar flexibility) or `histplot` (an axes-level function for histograms).\n",
      "  warnings.warn(msg, FutureWarning)\n"
     ]
    },
    {
     "data": {
      "image/png": "[encoded data removed]",
      "text/plain": [
       "<Figure size 1152x360 with 2 Axes>"
      ]
     },
     "metadata": {},
     "output_type": "display_data"
    }
   ],
   "source": [
    "PP.figure(figsize=(16,5))\n",
    "PP.subplot(1,2,1)\n",
    "S.distplot(T['median_income'])\n",
    "PP.subplot(1,2,2)\n",
    "S.distplot(T['median_house_value'])\n",
    "PP.show()"
   ]
  },
  {
   "cell_type": "code",
   "execution_count": null,
   "metadata": {},
   "outputs": [
    {
     "name": "stderr",
     "output_type": "stream",
     "text": [
      "/nix/store/3a6ardk55mlcynrs7hn4l4vynbm6wp7w-python3-3.9.10-env/lib/python3.9/site-packages/seaborn/_decorators.py:36: FutureWarning: Pass the following variable as a keyword arg: x. From version 0.12, the only valid positional argument will be `data`, and passing other arguments without an explicit keyword will result in an error or misinterpretation.\n",
      "  warnings.warn(\n",
      "/nix/store/3a6ardk55mlcynrs7hn4l4vynbm6wp7w-python3-3.9.10-env/lib/python3.9/site-packages/seaborn/_decorators.py:36: FutureWarning: Pass the following variable as a keyword arg: x. From version 0.12, the only valid positional argument will be `data`, and passing other arguments without an explicit keyword will result in an error or misinterpretation.\n",
      "  warnings.warn(\n"
     ]
    },
    {
     "data": {
      "image/png": "[encoded data removed]",
      "text/plain": [
       "<Figure size 1152x360 with 2 Axes>"
      ]
     },
     "metadata": {},
     "output_type": "display_data"
    }
   ],
   "source": [
    "PP.figure(figsize=(16,5))\n",
    "PP.subplot(1,2,1)\n",
    "S.boxplot(T['median_income'])\n",
    "PP.subplot(1,2,2)\n",
    "S.boxplot(T['median_house_value'])\n",
    "PP.show()\n"
   ]
  }
 ],
 "metadata": {
  "interpreter": {
   "hash": "498f8551b333178ea7c7f3ba1f659ea2237ccaaf4c538984a13ac382ac2753e2"
  },
  "kernelspec": {
   "display_name": "Python 3.9.10 64-bit",
   "name": "python3"
  },
  "language_info": {
   "codemirror_mode": {
    "name": "ipython",
    "version": 3
   },
   "file_extension": ".py",
   "mimetype": "text/x-python",
   "name": "python",
   "nbconvert_exporter": "python",
   "pygments_lexer": "ipython3",
   "version": "3.9.10"
  },
  "orig_nbformat": 4
 },
 "nbformat": 4,
 "nbformat_minor": 2
}
