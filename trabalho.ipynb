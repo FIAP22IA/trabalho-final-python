{
 "cells": [
  {
   "cell_type": "markdown",
   "metadata": {},
   "source": [
    "# Trabalho Final - Análise de Dados com Python\n",
    "\n",
    "Integrantes:\n",
    "\n",
    "    1) Marcelo Leopoldo e Silva de Carvalho Filho"
   ]
  },
  {
   "cell_type": "markdown",
   "metadata": {},
   "source": [
    "### Enunciado\n",
    "\n",
    "A partir dos dados housing.csv, realize toda análise exploratória necessária e prepare os dados para algoritmos de machine learning usando a Scikit-Learn. Treine um modelo de regressão linear que prediga a variável meta (median_house_value) e cujo valor de RMSE seja menor ou igual a 69000. "
   ]
  },
  {
   "cell_type": "markdown",
   "metadata": {},
   "source": [
    "### Resposta ao enunciado"
   ]
  },
  {
   "cell_type": "code",
   "execution_count": 296,
   "metadata": {},
   "outputs": [],
   "source": [
    "#disable warnings\n",
    "import warnings\n",
    "warnings.filterwarnings('ignore')"
   ]
  },
  {
   "cell_type": "code",
   "execution_count": 297,
   "metadata": {},
   "outputs": [],
   "source": [
    "# import libs\n",
    "import sklearn.linear_model as L\n",
    "from sklearn.metrics import mean_squared_error\n",
    "from sklearn.model_selection import train_test_split, StratifiedShuffleSplit\n",
    "from sklearn.preprocessing import MinMaxScaler, StandardScaler\n",
    "from functools import reduce\n",
    "import pandas as P\n",
    "import numpy as N\n",
    "import re as R\n",
    "from math import ceil\n",
    "from scipy.stats import pointbiserialr\n"
   ]
  },
  {
   "cell_type": "code",
   "execution_count": 298,
   "metadata": {},
   "outputs": [],
   "source": [
    "# plot configuration\n",
    "import matplotlib.pyplot as PP\n",
    "import seaborn as S\n",
    "\n",
    "PP.style.use('seaborn-dark')"
   ]
  },
  {
   "cell_type": "code",
   "execution_count": 299,
   "metadata": {},
   "outputs": [],
   "source": [
    "# helpers\n",
    "o = lambda f: lambda g: lambda x: f(g(x))\n",
    "fit = lambda X: lambda Y:  L.LinearRegression().fit(X, Y)\n",
    "predict = lambda X: lambda R: R.predict(X)\n",
    "RMSE = lambda Y: lambda P: mean_squared_error(Y, P, squared=False)\n",
    "get_dummies = lambda X: P.get_dummies(X, drop_first=True)\n",
    "drop_column = lambda c: lambda X: X.drop(c, axis=1)\n",
    "split_sample = lambda X, **kwargs1: lambda Y, **kwargs2: train_test_split(X, Y, **{ 'test_size': 0.2, 'random_state': 42, **kwargs1, **kwargs2 })\n",
    "\n",
    "def predictofit (S, **kwargs):\n",
    "    X_train, X_test, Y_train, Y_test = S\n",
    "    return predict(X_test)(fit(X_train)(Y_train))\n",
    "def show_RMSE (X, Y, **kwargs):\n",
    "    S = split_sample(X)(Y, **kwargs)\n",
    "    X_train, X_test ,Y_train, Y_test = S\n",
    "    print('RMSE: ', RMSE(Y_test)(predictofit(S, **kwargs)))\n",
    "\n",
    "def tableIO (file):\n",
    "    table = P.read_csv(file)\n",
    "    table = table.fillna(table.median())\n",
    "    X = table.drop(['median_house_value'], axis=1)\n",
    "    Y = table['median_house_value']\n",
    "    def initialXY():\n",
    "        return (X.copy(), Y.copy())\n",
    "    return (table.copy(), initialXY)"
   ]
  },
  {
   "cell_type": "code",
   "execution_count": 300,
   "metadata": {},
   "outputs": [],
   "source": [
    "# initialize environment\n",
    "table, initialXY = tableIO('housing.csv')\n",
    "\n",
    "X, Y = initialXY()"
   ]
  },
  {
   "cell_type": "code",
   "execution_count": 301,
   "metadata": {},
   "outputs": [
    {
     "name": "stdout",
     "output_type": "stream",
     "text": [
      "<class 'pandas.core.frame.DataFrame'>\n",
      "RangeIndex: 20640 entries, 0 to 20639\n",
      "Data columns (total 10 columns):\n",
      " #   Column              Non-Null Count  Dtype  \n",
      "---  ------              --------------  -----  \n",
      " 0   longitude           20640 non-null  float64\n",
      " 1   latitude            20640 non-null  float64\n",
      " 2   housing_median_age  20640 non-null  float64\n",
      " 3   total_rooms         20640 non-null  float64\n",
      " 4   total_bedrooms      20640 non-null  float64\n",
      " 5   population          20640 non-null  float64\n",
      " 6   households          20640 non-null  float64\n",
      " 7   median_income       20640 non-null  float64\n",
      " 8   median_house_value  20640 non-null  float64\n",
      " 9   ocean_proximity     20640 non-null  object \n",
      "dtypes: float64(9), object(1)\n",
      "memory usage: 1.6+ MB\n"
     ]
    }
   ],
   "source": [
    "table.info()"
   ]
  },
  {
   "cell_type": "code",
   "execution_count": 302,
   "metadata": {},
   "outputs": [
    {
     "data": {
      "text/plain": [
       "longitude            -0.045967\n",
       "latitude             -0.144160\n",
       "housing_median_age    0.105623\n",
       "total_rooms           0.134153\n",
       "total_bedrooms        0.049457\n",
       "population           -0.024650\n",
       "households            0.065843\n",
       "median_income         0.688075\n",
       "dtype: float64"
      ]
     },
     "execution_count": 302,
     "metadata": {},
     "output_type": "execute_result"
    }
   ],
   "source": [
    "# correlation with median_house_value\n",
    "drop_column(['median_house_value'])(table).corrwith(table['median_house_value'])"
   ]
  },
  {
   "cell_type": "code",
   "execution_count": 303,
   "metadata": {},
   "outputs": [
    {
     "name": "stdout",
     "output_type": "stream",
     "text": [
      "<1H OCEAN \n",
      " house value mean:  240084.28546409807 \n",
      "\n",
      "INLAND \n",
      " house value mean:  124805.39200122119 \n",
      "\n",
      "ISLAND \n",
      " house value mean:  380440.0 \n",
      "\n",
      "NEAR BAY \n",
      " house value mean:  259212.31179039303 \n",
      "\n",
      "NEAR OCEAN \n",
      " house value mean:  249433.97742663656 \n",
      "\n"
     ]
    }
   ],
   "source": [
    "# median house value mean groupped by ocean proximity\n",
    "ocean_proximity_group = table.groupby(['ocean_proximity'])\n",
    "house_value_mean_by_ocean_proximity = [(k, op['median_house_value'].mean()) for k,op in ocean_proximity_group]\n",
    "\n",
    "for t in house_value_mean_by_ocean_proximity:\n",
    "    print(t[0], '\\n house value mean: ', t[1], '\\n')"
   ]
  },
  {
   "cell_type": "markdown",
   "metadata": {},
   "source": [
    "# Dataset de casas na california\n",
    "\n",
    "`housing.csv` é um dataset com casas na california e devemos fazer um modelo que consiga prever o valor mediano das casas em um quarteirão da california, dado os valores de uma linha menos o `median_house_value`. Analisando os dados apresentados assima podemos concluir que:\n",
    "\n",
    "* **dataset**:\n",
    "    * 10 colunas:\n",
    "        * 9 numericas\n",
    "        * 1 categorica\n",
    "            * `ocean_proximity`\n",
    "* **correlação com** `median_house_value`\n",
    "    * `median_income`: **forte**\n",
    "    * `ocean_proximity`: **moderada** \n",
    "\n",
    "## Normalização do dataset\n",
    "\n",
    "### estratificação\n",
    "\n",
    "Vamos estratificar o dataset por `ocean_proximity`, porque existe uma correlação entre o ultimo e `median_house_value`; e tambem porque a estratificação se da mais naturalmente com variaves categoricas, por não ser preciso qualquer conversão.\n",
    "\n",
    "Para isso usamos `StratifiedShuffleSplit` com apenas 1 split e estratificado por `ocean_proximity\n",
    "\n",
    "### conversão de categorica para numerica\n",
    "\n",
    "Para converter `ocean_proximity` para numerico, usamos o `pandas.get_dummies`\n",
    "\n",
    "### preenchimento das variaveis vazias\n",
    "Para preencher os valores vazis de qualquer coluna, usamos `df.fillna(df.median())`\n",
    "\n",
    "## Regressão Linear\n",
    "\n",
    "Após normalizarmos os dados de conseguimos um `RSME NORMALIZADO = 0.593070613329019`, portanto abaixo do pedido no resultado.\n"
   ]
  },
  {
   "cell_type": "code",
   "execution_count": 304,
   "metadata": {},
   "outputs": [
    {
     "name": "stdout",
     "output_type": "stream",
     "text": [
      "RMSE:  0.593070613329019\n"
     ]
    }
   ],
   "source": [
    "# Resultado do RMSE\n",
    "# T   = table\n",
    "# TN  = train\n",
    "# TT  = test\n",
    "# TS  = Strat\n",
    "# TSx = Strat x\n",
    "# TSy = Strat y\n",
    "T = table.copy()\n",
    "TSx, TSy = (drop_column(['median_house_value'])(T), T['ocean_proximity'])\n",
    "T = get_dummies(T)\n",
    "T = P.DataFrame(StandardScaler().fit(T).transform(T), columns=T.columns)\n",
    "itn, itt = list(StratifiedShuffleSplit(n_splits=1, test_size=0.2, random_state=42).split(TSx, TSy))[0]\n",
    "TN, TT = (T.iloc[itn], T.iloc[itt])\n",
    "\n",
    "get_ys = lambda T: T['median_house_value']\n",
    "get_xs = drop_column(['median_house_value'])\n",
    "\n",
    "TNx, TTx, TNy, TTy, = (get_xs(TN), get_xs(TT), get_ys(TN), get_ys(TT))\n",
    "\n",
    "print(\"RMSE: \", RMSE(TTy)(predict(TTx)(fit(TNx)(TNy))))"
   ]
  }
 ],
 "metadata": {
  "interpreter": {
   "hash": "498f8551b333178ea7c7f3ba1f659ea2237ccaaf4c538984a13ac382ac2753e2"
  },
  "kernelspec": {
   "display_name": "Python 3.9.10 64-bit",
   "name": "python3"
  },
  "language_info": {
   "codemirror_mode": {
    "name": "ipython",
    "version": 3
   },
   "file_extension": ".py",
   "mimetype": "text/x-python",
   "name": "python",
   "nbconvert_exporter": "python",
   "pygments_lexer": "ipython3",
   "version": "3.9.10"
  },
  "orig_nbformat": 4
 },
 "nbformat": 4,
 "nbformat_minor": 2
}
