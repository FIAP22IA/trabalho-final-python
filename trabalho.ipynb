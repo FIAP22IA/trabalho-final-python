{
 "cells": [
  {
   "cell_type": "markdown",
   "metadata": {},
   "source": []
  },
  {
   "cell_type": "code",
   "execution_count": 1047,
   "metadata": {},
   "outputs": [],
   "source": [
    "# import libs\n",
    "import sklearn.linear_model as L\n",
    "from sklearn.metrics import mean_squared_error\n",
    "from sklearn.model_selection import train_test_split\n",
    "from sklearn.preprocessing import MinMaxScaler\n",
    "from functools import reduce\n",
    "import pandas as P\n",
    "import numpy as N\n",
    "import matplotlib.pyplot as PP\n",
    "import re as R\n",
    "from scipy.stats import pointbiserialr\n",
    "import seaborn as S\n",
    "\n"
   ]
  },
  {
   "cell_type": "code",
   "execution_count": 1048,
   "metadata": {},
   "outputs": [],
   "source": [
    "# helpers\n",
    "o = lambda f: lambda g: lambda x: f(g(x))\n",
    "fit = lambda X: lambda Y:  L.LinearRegression().fit(X, Y)\n",
    "predict = lambda X: lambda R: R.predict(X)\n",
    "RMSE = lambda Y: lambda P: mean_squared_error(Y, P, squared=False)\n",
    "get_dummies = lambda X: P.get_dummies(X, drop_first=True)\n",
    "drop_column = lambda c: lambda X: X.drop(c, axis=1)\n",
    "split_sample = lambda X, **kwargs1: lambda Y, **kwargs2: train_test_split(X, Y, **{ 'test_size': 0.2, 'random_state': 42, **kwargs1, **kwargs2 })\n",
    "\n",
    "def predictofit (X, Y, **kwargs):\n",
    "    X_train, X_test, Y_train, Y_test = split_sample(X)(Y, **kwargs)\n",
    "    return predict(X_test)(fit(X_train)(Y_train))\n",
    "def show_RMSE (X, Y, **kwargs):\n",
    "    print('RMSE: ', RMSE(Y_test)(predictofit(X, Y, **kwargs)))\n",
    "\n",
    "def tableIO (file):\n",
    "    table = P.read_csv(file)\n",
    "    X = table.drop(['median_house_value'], axis=1)\n",
    "    X['total_bedrooms'] = X['total_bedrooms'].fillna(X['total_bedrooms'].median())\n",
    "    Y = table['median_house_value']\n",
    "    def initialXY():\n",
    "        return (X.copy(), Y.copy())\n",
    "    return (table.copy(), initalXY)\n",
    "\n",
    "plt.style.use('seaborn-dark')"
   ]
  },
  {
   "cell_type": "code",
   "execution_count": 1049,
   "metadata": {},
   "outputs": [],
   "source": [
    "# initialize environment\n",
    "table, initalXY = tableIO('housing.csv')\n",
    "\n",
    "X, Y = initialXY()"
   ]
  },
  {
   "cell_type": "code",
   "execution_count": 1050,
   "metadata": {},
   "outputs": [
    {
     "data": {
      "text/html": [
       "<div>\n",
       "<style scoped>\n",
       "    .dataframe tbody tr th:only-of-type {\n",
       "        vertical-align: middle;\n",
       "    }\n",
       "\n",
       "    .dataframe tbody tr th {\n",
       "        vertical-align: top;\n",
       "    }\n",
       "\n",
       "    .dataframe thead th {\n",
       "        text-align: right;\n",
       "    }\n",
       "</style>\n",
       "<table border=\"1\" class=\"dataframe\">\n",
       "  <thead>\n",
       "    <tr style=\"text-align: right;\">\n",
       "      <th></th>\n",
       "      <th>longitude</th>\n",
       "      <th>latitude</th>\n",
       "      <th>housing_median_age</th>\n",
       "      <th>total_rooms</th>\n",
       "      <th>total_bedrooms</th>\n",
       "      <th>population</th>\n",
       "      <th>households</th>\n",
       "      <th>median_income</th>\n",
       "      <th>median_house_value</th>\n",
       "      <th>ocean_proximity</th>\n",
       "    </tr>\n",
       "  </thead>\n",
       "  <tbody>\n",
       "    <tr>\n",
       "      <th>0</th>\n",
       "      <td>-122.23</td>\n",
       "      <td>37.88</td>\n",
       "      <td>41.0</td>\n",
       "      <td>880.0</td>\n",
       "      <td>129.0</td>\n",
       "      <td>322.0</td>\n",
       "      <td>126.0</td>\n",
       "      <td>8.3252</td>\n",
       "      <td>452600.0</td>\n",
       "      <td>NEAR BAY</td>\n",
       "    </tr>\n",
       "    <tr>\n",
       "      <th>1</th>\n",
       "      <td>-122.22</td>\n",
       "      <td>37.86</td>\n",
       "      <td>21.0</td>\n",
       "      <td>7099.0</td>\n",
       "      <td>1106.0</td>\n",
       "      <td>2401.0</td>\n",
       "      <td>1138.0</td>\n",
       "      <td>8.3014</td>\n",
       "      <td>358500.0</td>\n",
       "      <td>NEAR BAY</td>\n",
       "    </tr>\n",
       "    <tr>\n",
       "      <th>2</th>\n",
       "      <td>-122.24</td>\n",
       "      <td>37.85</td>\n",
       "      <td>52.0</td>\n",
       "      <td>1467.0</td>\n",
       "      <td>190.0</td>\n",
       "      <td>496.0</td>\n",
       "      <td>177.0</td>\n",
       "      <td>7.2574</td>\n",
       "      <td>352100.0</td>\n",
       "      <td>NEAR BAY</td>\n",
       "    </tr>\n",
       "    <tr>\n",
       "      <th>3</th>\n",
       "      <td>-122.25</td>\n",
       "      <td>37.85</td>\n",
       "      <td>52.0</td>\n",
       "      <td>1274.0</td>\n",
       "      <td>235.0</td>\n",
       "      <td>558.0</td>\n",
       "      <td>219.0</td>\n",
       "      <td>5.6431</td>\n",
       "      <td>341300.0</td>\n",
       "      <td>NEAR BAY</td>\n",
       "    </tr>\n",
       "    <tr>\n",
       "      <th>4</th>\n",
       "      <td>-122.25</td>\n",
       "      <td>37.85</td>\n",
       "      <td>52.0</td>\n",
       "      <td>1627.0</td>\n",
       "      <td>280.0</td>\n",
       "      <td>565.0</td>\n",
       "      <td>259.0</td>\n",
       "      <td>3.8462</td>\n",
       "      <td>342200.0</td>\n",
       "      <td>NEAR BAY</td>\n",
       "    </tr>\n",
       "  </tbody>\n",
       "</table>\n",
       "</div>"
      ],
      "text/plain": [
       "   longitude  latitude  housing_median_age  total_rooms  total_bedrooms  \\\n",
       "0    -122.23     37.88                41.0        880.0           129.0   \n",
       "1    -122.22     37.86                21.0       7099.0          1106.0   \n",
       "2    -122.24     37.85                52.0       1467.0           190.0   \n",
       "3    -122.25     37.85                52.0       1274.0           235.0   \n",
       "4    -122.25     37.85                52.0       1627.0           280.0   \n",
       "\n",
       "   population  households  median_income  median_house_value ocean_proximity  \n",
       "0       322.0       126.0         8.3252            452600.0        NEAR BAY  \n",
       "1      2401.0      1138.0         8.3014            358500.0        NEAR BAY  \n",
       "2       496.0       177.0         7.2574            352100.0        NEAR BAY  \n",
       "3       558.0       219.0         5.6431            341300.0        NEAR BAY  \n",
       "4       565.0       259.0         3.8462            342200.0        NEAR BAY  "
      ]
     },
     "execution_count": 1050,
     "metadata": {},
     "output_type": "execute_result"
    }
   ],
   "source": [
    "table.head()"
   ]
  },
  {
   "cell_type": "code",
   "execution_count": 1051,
   "metadata": {},
   "outputs": [
    {
     "name": "stdout",
     "output_type": "stream",
     "text": [
      "(rows, columns): (20640, 10) \n",
      "\n",
      "tipo dos dados:\n",
      "\n",
      " longitude             float64\n",
      "latitude              float64\n",
      "housing_median_age    float64\n",
      "total_rooms           float64\n",
      "total_bedrooms        float64\n",
      "population            float64\n",
      "households            float64\n",
      "median_income         float64\n",
      "median_house_value    float64\n",
      "ocean_proximity        object\n",
      "dtype: object \n",
      "\n",
      "valores da coluna com valores categoricos \"ocean_proximity\" ['NEAR BAY' '<1H OCEAN' 'INLAND' 'NEAR OCEAN' 'ISLAND'] \n",
      "\n"
     ]
    }
   ],
   "source": [
    "# structure description\n",
    "print('(rows, columns):', table.shape, '\\n')\n",
    "print('tipo dos dados:\\n\\n', table.dtypes, '\\n' )\n",
    "print('valores da coluna com valores categoricos \"ocean_proximity\"', table['ocean_proximity'].unique(), '\\n')"
   ]
  },
  {
   "cell_type": "code",
   "execution_count": 1052,
   "metadata": {},
   "outputs": [
    {
     "name": "stdout",
     "output_type": "stream",
     "text": [
      "<1H OCEAN \n",
      " house value mean:  240084.28546409807 \n",
      "\n",
      "INLAND \n",
      " house value mean:  124805.39200122119 \n",
      "\n",
      "ISLAND \n",
      " house value mean:  380440.0 \n",
      "\n",
      "NEAR BAY \n",
      " house value mean:  259212.31179039303 \n",
      "\n",
      "NEAR OCEAN \n",
      " house value mean:  249433.97742663656 \n",
      "\n"
     ]
    }
   ],
   "source": [
    "# median house value mean groupped by ocean proximity\n",
    "ocean_proximity_group = table.groupby(['ocean_proximity'])\n",
    "house_value_mean_by_ocean_proximity = [(k, op['median_house_value'].mean()) for k,op in ocean_proximity_group]\n",
    "\n",
    "for t in house_value_mean_by_ocean_proximity:\n",
    "    print(t[0], '\\n house value mean: ', t[1], '\\n')"
   ]
  },
  {
   "cell_type": "code",
   "execution_count": 1053,
   "metadata": {},
   "outputs": [
    {
     "name": "stdout",
     "output_type": "stream",
     "text": [
      "latitude             -0.144160\n",
      "longitude            -0.045967\n",
      "population           -0.024650\n",
      "total_bedrooms        0.049686\n",
      "households            0.065843\n",
      "housing_median_age    0.105623\n",
      "total_rooms           0.134153\n",
      "median_income         0.688075\n",
      "dtype: float64\n"
     ]
    }
   ],
   "source": [
    "# continuous data correlation with median house value\n",
    "numeric_columns = table.select_dtypes(['float64', 'int64'])\n",
    "corr = numeric_columns.loc[:, numeric_columns.columns != 'median_house_value'].corrwith(numeric_columns['median_house_value'])\n",
    "print(corr.sort_values())"
   ]
  },
  {
   "cell_type": "code",
   "execution_count": 1054,
   "metadata": {},
   "outputs": [
    {
     "data": {
      "text/plain": [
       "longitude                    -0.045967\n",
       "latitude                     -0.144160\n",
       "housing_median_age            0.105623\n",
       "total_rooms                   0.134153\n",
       "total_bedrooms                0.049454\n",
       "population                   -0.024650\n",
       "households                    0.065843\n",
       "median_income                 0.688075\n",
       "ocean_proximity_INLAND       -0.484859\n",
       "ocean_proximity_ISLAND        0.023416\n",
       "ocean_proximity_NEAR BAY      0.160284\n",
       "ocean_proximity_NEAR OCEAN    0.141862\n",
       "dtype: float64"
      ]
     },
     "execution_count": 1054,
     "metadata": {},
     "output_type": "execute_result"
    }
   ],
   "source": [
    "# correlation with dummies\n",
    "_X, _Y = initialXY()\n",
    "_X = get_dummies(_X)\n",
    "_X.corrwith(_Y)"
   ]
  },
  {
   "cell_type": "code",
   "execution_count": 1055,
   "metadata": {},
   "outputs": [
    {
     "data": {
      "text/html": [
       "<div>\n",
       "<style scoped>\n",
       "    .dataframe tbody tr th:only-of-type {\n",
       "        vertical-align: middle;\n",
       "    }\n",
       "\n",
       "    .dataframe tbody tr th {\n",
       "        vertical-align: top;\n",
       "    }\n",
       "\n",
       "    .dataframe thead th {\n",
       "        text-align: right;\n",
       "    }\n",
       "</style>\n",
       "<table border=\"1\" class=\"dataframe\">\n",
       "  <thead>\n",
       "    <tr style=\"text-align: right;\">\n",
       "      <th></th>\n",
       "      <th>longitude</th>\n",
       "      <th>latitude</th>\n",
       "      <th>housing_median_age</th>\n",
       "      <th>total_rooms</th>\n",
       "      <th>total_bedrooms</th>\n",
       "      <th>population</th>\n",
       "      <th>households</th>\n",
       "      <th>median_income</th>\n",
       "      <th>ocean_proximity</th>\n",
       "    </tr>\n",
       "  </thead>\n",
       "  <tbody>\n",
       "    <tr>\n",
       "      <th>0</th>\n",
       "      <td>-122.23</td>\n",
       "      <td>37.88</td>\n",
       "      <td>41.0</td>\n",
       "      <td>880.0</td>\n",
       "      <td>129.0</td>\n",
       "      <td>322.0</td>\n",
       "      <td>126.0</td>\n",
       "      <td>8.3252</td>\n",
       "      <td>NEAR BAY</td>\n",
       "    </tr>\n",
       "    <tr>\n",
       "      <th>1</th>\n",
       "      <td>-122.22</td>\n",
       "      <td>37.86</td>\n",
       "      <td>21.0</td>\n",
       "      <td>7099.0</td>\n",
       "      <td>1106.0</td>\n",
       "      <td>2401.0</td>\n",
       "      <td>1138.0</td>\n",
       "      <td>8.3014</td>\n",
       "      <td>NEAR BAY</td>\n",
       "    </tr>\n",
       "    <tr>\n",
       "      <th>2</th>\n",
       "      <td>-122.24</td>\n",
       "      <td>37.85</td>\n",
       "      <td>52.0</td>\n",
       "      <td>1467.0</td>\n",
       "      <td>190.0</td>\n",
       "      <td>496.0</td>\n",
       "      <td>177.0</td>\n",
       "      <td>7.2574</td>\n",
       "      <td>NEAR BAY</td>\n",
       "    </tr>\n",
       "    <tr>\n",
       "      <th>3</th>\n",
       "      <td>-122.25</td>\n",
       "      <td>37.85</td>\n",
       "      <td>52.0</td>\n",
       "      <td>1274.0</td>\n",
       "      <td>235.0</td>\n",
       "      <td>558.0</td>\n",
       "      <td>219.0</td>\n",
       "      <td>5.6431</td>\n",
       "      <td>NEAR BAY</td>\n",
       "    </tr>\n",
       "    <tr>\n",
       "      <th>4</th>\n",
       "      <td>-122.25</td>\n",
       "      <td>37.85</td>\n",
       "      <td>52.0</td>\n",
       "      <td>1627.0</td>\n",
       "      <td>280.0</td>\n",
       "      <td>565.0</td>\n",
       "      <td>259.0</td>\n",
       "      <td>3.8462</td>\n",
       "      <td>NEAR BAY</td>\n",
       "    </tr>\n",
       "  </tbody>\n",
       "</table>\n",
       "</div>"
      ],
      "text/plain": [
       "   longitude  latitude  housing_median_age  total_rooms  total_bedrooms  \\\n",
       "0    -122.23     37.88                41.0        880.0           129.0   \n",
       "1    -122.22     37.86                21.0       7099.0          1106.0   \n",
       "2    -122.24     37.85                52.0       1467.0           190.0   \n",
       "3    -122.25     37.85                52.0       1274.0           235.0   \n",
       "4    -122.25     37.85                52.0       1627.0           280.0   \n",
       "\n",
       "   population  households  median_income ocean_proximity  \n",
       "0       322.0       126.0         8.3252        NEAR BAY  \n",
       "1      2401.0      1138.0         8.3014        NEAR BAY  \n",
       "2       496.0       177.0         7.2574        NEAR BAY  \n",
       "3       558.0       219.0         5.6431        NEAR BAY  \n",
       "4       565.0       259.0         3.8462        NEAR BAY  "
      ]
     },
     "execution_count": 1055,
     "metadata": {},
     "output_type": "execute_result"
    }
   ],
   "source": [
    "X.head()"
   ]
  },
  {
   "cell_type": "code",
   "execution_count": 1056,
   "metadata": {},
   "outputs": [
    {
     "data": {
      "text/plain": [
       "0    452600.0\n",
       "1    358500.0\n",
       "2    352100.0\n",
       "3    341300.0\n",
       "4    342200.0\n",
       "Name: median_house_value, dtype: float64"
      ]
     },
     "execution_count": 1056,
     "metadata": {},
     "output_type": "execute_result"
    }
   ],
   "source": [
    "Y.head()"
   ]
  },
  {
   "cell_type": "code",
   "execution_count": 1057,
   "metadata": {},
   "outputs": [
    {
     "data": {
      "text/html": [
       "<div>\n",
       "<style scoped>\n",
       "    .dataframe tbody tr th:only-of-type {\n",
       "        vertical-align: middle;\n",
       "    }\n",
       "\n",
       "    .dataframe tbody tr th {\n",
       "        vertical-align: top;\n",
       "    }\n",
       "\n",
       "    .dataframe thead th {\n",
       "        text-align: right;\n",
       "    }\n",
       "</style>\n",
       "<table border=\"1\" class=\"dataframe\">\n",
       "  <thead>\n",
       "    <tr style=\"text-align: right;\">\n",
       "      <th></th>\n",
       "      <th>longitude</th>\n",
       "      <th>latitude</th>\n",
       "      <th>housing_median_age</th>\n",
       "      <th>total_rooms</th>\n",
       "      <th>total_bedrooms</th>\n",
       "      <th>population</th>\n",
       "      <th>households</th>\n",
       "      <th>median_income</th>\n",
       "    </tr>\n",
       "  </thead>\n",
       "  <tbody>\n",
       "    <tr>\n",
       "      <th>count</th>\n",
       "      <td>20640.000000</td>\n",
       "      <td>20640.000000</td>\n",
       "      <td>20640.000000</td>\n",
       "      <td>20640.000000</td>\n",
       "      <td>20640.000000</td>\n",
       "      <td>20640.000000</td>\n",
       "      <td>20640.000000</td>\n",
       "      <td>20640.000000</td>\n",
       "    </tr>\n",
       "    <tr>\n",
       "      <th>mean</th>\n",
       "      <td>-119.569704</td>\n",
       "      <td>35.631861</td>\n",
       "      <td>28.639486</td>\n",
       "      <td>2635.763081</td>\n",
       "      <td>537.870553</td>\n",
       "      <td>1425.476744</td>\n",
       "      <td>499.539680</td>\n",
       "      <td>3.870671</td>\n",
       "    </tr>\n",
       "    <tr>\n",
       "      <th>std</th>\n",
       "      <td>2.003532</td>\n",
       "      <td>2.135952</td>\n",
       "      <td>12.585558</td>\n",
       "      <td>2181.615252</td>\n",
       "      <td>419.266592</td>\n",
       "      <td>1132.462122</td>\n",
       "      <td>382.329753</td>\n",
       "      <td>1.899822</td>\n",
       "    </tr>\n",
       "    <tr>\n",
       "      <th>min</th>\n",
       "      <td>-124.350000</td>\n",
       "      <td>32.540000</td>\n",
       "      <td>1.000000</td>\n",
       "      <td>2.000000</td>\n",
       "      <td>1.000000</td>\n",
       "      <td>3.000000</td>\n",
       "      <td>1.000000</td>\n",
       "      <td>0.499900</td>\n",
       "    </tr>\n",
       "    <tr>\n",
       "      <th>25%</th>\n",
       "      <td>-121.800000</td>\n",
       "      <td>33.930000</td>\n",
       "      <td>18.000000</td>\n",
       "      <td>1447.750000</td>\n",
       "      <td>297.000000</td>\n",
       "      <td>787.000000</td>\n",
       "      <td>280.000000</td>\n",
       "      <td>2.563400</td>\n",
       "    </tr>\n",
       "    <tr>\n",
       "      <th>50%</th>\n",
       "      <td>-118.490000</td>\n",
       "      <td>34.260000</td>\n",
       "      <td>29.000000</td>\n",
       "      <td>2127.000000</td>\n",
       "      <td>438.000000</td>\n",
       "      <td>1166.000000</td>\n",
       "      <td>409.000000</td>\n",
       "      <td>3.534800</td>\n",
       "    </tr>\n",
       "    <tr>\n",
       "      <th>75%</th>\n",
       "      <td>-118.010000</td>\n",
       "      <td>37.710000</td>\n",
       "      <td>37.000000</td>\n",
       "      <td>3148.000000</td>\n",
       "      <td>643.250000</td>\n",
       "      <td>1725.000000</td>\n",
       "      <td>605.000000</td>\n",
       "      <td>4.743250</td>\n",
       "    </tr>\n",
       "    <tr>\n",
       "      <th>max</th>\n",
       "      <td>-114.310000</td>\n",
       "      <td>41.950000</td>\n",
       "      <td>52.000000</td>\n",
       "      <td>39320.000000</td>\n",
       "      <td>6445.000000</td>\n",
       "      <td>35682.000000</td>\n",
       "      <td>6082.000000</td>\n",
       "      <td>15.000100</td>\n",
       "    </tr>\n",
       "  </tbody>\n",
       "</table>\n",
       "</div>"
      ],
      "text/plain": [
       "          longitude      latitude  housing_median_age   total_rooms  \\\n",
       "count  20640.000000  20640.000000        20640.000000  20640.000000   \n",
       "mean    -119.569704     35.631861           28.639486   2635.763081   \n",
       "std        2.003532      2.135952           12.585558   2181.615252   \n",
       "min     -124.350000     32.540000            1.000000      2.000000   \n",
       "25%     -121.800000     33.930000           18.000000   1447.750000   \n",
       "50%     -118.490000     34.260000           29.000000   2127.000000   \n",
       "75%     -118.010000     37.710000           37.000000   3148.000000   \n",
       "max     -114.310000     41.950000           52.000000  39320.000000   \n",
       "\n",
       "       total_bedrooms    population    households  median_income  \n",
       "count    20640.000000  20640.000000  20640.000000   20640.000000  \n",
       "mean       537.870553   1425.476744    499.539680       3.870671  \n",
       "std        419.266592   1132.462122    382.329753       1.899822  \n",
       "min          1.000000      3.000000      1.000000       0.499900  \n",
       "25%        297.000000    787.000000    280.000000       2.563400  \n",
       "50%        438.000000   1166.000000    409.000000       3.534800  \n",
       "75%        643.250000   1725.000000    605.000000       4.743250  \n",
       "max       6445.000000  35682.000000   6082.000000      15.000100  "
      ]
     },
     "execution_count": 1057,
     "metadata": {},
     "output_type": "execute_result"
    }
   ],
   "source": [
    "X.describe()"
   ]
  },
  {
   "cell_type": "code",
   "execution_count": 1058,
   "metadata": {},
   "outputs": [
    {
     "data": {
      "text/plain": [
       "count     20640.000000\n",
       "mean     206855.816909\n",
       "std      115395.615874\n",
       "min       14999.000000\n",
       "25%      119600.000000\n",
       "50%      179700.000000\n",
       "75%      264725.000000\n",
       "max      500001.000000\n",
       "Name: median_house_value, dtype: float64"
      ]
     },
     "execution_count": 1058,
     "metadata": {},
     "output_type": "execute_result"
    }
   ],
   "source": [
    "Y.describe()"
   ]
  },
  {
   "cell_type": "code",
   "execution_count": 1059,
   "metadata": {},
   "outputs": [
    {
     "name": "stdout",
     "output_type": "stream",
     "text": [
      "RMSE:  70031.41991955657\n"
     ]
    }
   ],
   "source": [
    "# RMSE with every column\n",
    "_X, _Y = initialXY()\n",
    "_X = get_dummies(_X)\n",
    "show_RMSE(_X, _Y)\n"
   ]
  },
  {
   "cell_type": "code",
   "execution_count": 1060,
   "metadata": {},
   "outputs": [
    {
     "name": "stdout",
     "output_type": "stream",
     "text": [
      "RMSE:  71084.13116794502\n"
     ]
    }
   ],
   "source": [
    "# RMSE but ocean_proximity\n",
    "_X, _Y = initialXY()\n",
    "_X = drop_column(['ocean_proximity'])(_X)\n",
    "show_RMSE(_X, _Y)"
   ]
  },
  {
   "cell_type": "code",
   "execution_count": 1061,
   "metadata": {},
   "outputs": [
    {
     "name": "stdout",
     "output_type": "stream",
     "text": [
      "RMSE:  70132.85030508868\n"
     ]
    }
   ],
   "source": [
    "# RMSE: inland\n",
    "\n",
    "_X, _Y = initialXY()\n",
    "_X['inland'] = get_dummies(_X)['ocean_proximity_INLAND']\n",
    "_X = drop_column(['ocean_proximity'])(_X)\n",
    "\n",
    "show_RMSE(_X, _Y)"
   ]
  },
  {
   "cell_type": "code",
   "execution_count": 1062,
   "metadata": {},
   "outputs": [
    {
     "name": "stdout",
     "output_type": "stream",
     "text": [
      "RMSE:  70132.85030508871\n"
     ]
    }
   ],
   "source": [
    "# RMSE: inverse inland\n",
    "\n",
    "_X, _Y = initialXY()\n",
    "_X['inland'] = N.invert(get_dummies(_X)['ocean_proximity_INLAND'])\n",
    "_X = drop_column(['ocean_proximity'])(_X)\n",
    "\n",
    "show_RMSE(_X, _Y)"
   ]
  },
  {
   "cell_type": "code",
   "execution_count": 1063,
   "metadata": {},
   "outputs": [
    {
     "name": "stdout",
     "output_type": "stream",
     "text": [
      "RMSE:  70031.41991955657\n"
     ]
    }
   ],
   "source": [
    "_X, _Y = initialXY()\n",
    "_X = get_dummies(_X)\n",
    "show_RMSE(_X, _Y, random_state=42)"
   ]
  },
  {
   "cell_type": "code",
   "execution_count": 1064,
   "metadata": {},
   "outputs": [
    {
     "name": "stdout",
     "output_type": "stream",
     "text": [
      "ocean_proximity_INLAND :\n",
      "PointbiserialrResult(correlation=-0.4848593346486689, pvalue=0.0)\n",
      "\n",
      "ocean_proximity_ISLAND :\n",
      "PointbiserialrResult(correlation=0.023416076436869247, pvalue=0.0007672192365138578)\n",
      "\n",
      "ocean_proximity_NEAR BAY :\n",
      "PointbiserialrResult(correlation=0.1602844836716687, pvalue=7.939216753126486e-119)\n",
      "\n",
      "ocean_proximity_NEAR OCEAN :\n",
      "PointbiserialrResult(correlation=0.14186216979619454, pvalue=3.0374365646384425e-93)\n",
      "\n"
     ]
    }
   ],
   "source": [
    "# pointbiserialr\n",
    "_X, _Y = initialXY()\n",
    "_X = get_dummies(_X[['ocean_proximity']])\n",
    "\n",
    "for col in _X.filter(regex=\"^ocean_proximity\"):\n",
    "    print(col, ':')\n",
    "    print(pointbiserialr(_X[col], _Y))\n",
    "    print()\n"
   ]
  },
  {
   "cell_type": "code",
   "execution_count": 1065,
   "metadata": {},
   "outputs": [
    {
     "name": "stdout",
     "output_type": "stream",
     "text": [
      "RMSE:  84209.01241414454\n"
     ]
    }
   ],
   "source": [
    "X, Y = initialXY()\n",
    "X = X[['median_income']]\n",
    "show_RMSE(X, Y)\n"
   ]
  },
  {
   "cell_type": "code",
   "execution_count": 1066,
   "metadata": {},
   "outputs": [
    {
     "data": {
      "text/plain": [
       "<AxesSubplot:xlabel='median_income', ylabel='median_house_value'>"
      ]
     },
     "execution_count": 1066,
     "metadata": {},
     "output_type": "execute_result"
    },
    {
     "data": {
      "image/png": "[encoded data removed]",
      "text/plain": [
       "<Figure size 432x288 with 1 Axes>"
      ]
     },
     "metadata": {},
     "output_type": "display_data"
    }
   ],
   "source": [
    "from sklearn.preprocessing import MinMaxScaler\n",
    "\n",
    "X, Y = initialXY()\n",
    "X = get_dummies(X)\n",
    "clmns = X.columns \n",
    "scaler = MinMaxScaler().fit(X)\n",
    "X = scaler.transform(X)\n",
    "X = P.DataFrame(X, columns=clmns)\n",
    "\n",
    "table.plot.scatter(\"median_income\", \"median_house_value\")"
   ]
  },
  {
   "cell_type": "code",
   "execution_count": 1067,
   "metadata": {},
   "outputs": [
    {
     "data": {
      "text/plain": [
       "<module 'pandas' from '/nix/store/3a6ardk55mlcynrs7hn4l4vynbm6wp7w-python3-3.9.10-env/lib/python3.9/site-packages/pandas/__init__.py'>"
      ]
     },
     "metadata": {},
     "output_type": "display_data"
    },
    {
     "data": {
      "image/png": "[encoded data removed]",
      "text/plain": [
       "<Figure size 648x648 with 1 Axes>"
      ]
     },
     "metadata": {},
     "output_type": "display_data"
    }
   ],
   "source": [
    "PP.figure(figsize=(9, 9))\n",
    "\n",
    "X, Y = initialXY()\n",
    "X = get_dummies(X)\n",
    "S.histplot(x=N.invert(X['ocean_proximity_INLAND']), discrete=True ).set_xlabel('is near ocean')\n",
    "display(P)"
   ]
  },
  {
   "cell_type": "code",
   "execution_count": 1068,
   "metadata": {},
   "outputs": [
    {
     "data": {
      "text/plain": [
       "<module 'pandas' from '/nix/store/3a6ardk55mlcynrs7hn4l4vynbm6wp7w-python3-3.9.10-env/lib/python3.9/site-packages/pandas/__init__.py'>"
      ]
     },
     "metadata": {},
     "output_type": "display_data"
    },
    {
     "data": {
      "image/png": "[encoded data removed]",
      "text/plain": [
       "<Figure size 648x648 with 1 Axes>"
      ]
     },
     "metadata": {},
     "output_type": "display_data"
    }
   ],
   "source": [
    "\n",
    "PP.figure(figsize=(9, 9))\n",
    "\n",
    "X, Y = initialXY()\n",
    "S.histplot(x=X['median_income']).set_xlabel('median income')\n",
    "display(P)"
   ]
  },
  {
   "cell_type": "code",
   "execution_count": 1069,
   "metadata": {},
   "outputs": [
    {
     "data": {
      "text/plain": [
       "<AxesSubplot:xlabel='median_income'>"
      ]
     },
     "execution_count": 1069,
     "metadata": {},
     "output_type": "execute_result"
    },
    {
     "data": {
      "image/png": "[encoded data removed]",
      "text/plain": [
       "<Figure size 648x648 with 1 Axes>"
      ]
     },
     "metadata": {},
     "output_type": "display_data"
    }
   ],
   "source": [
    "PP.figure(figsize=(9, 9))\n",
    "\n",
    "X, Y = initialXY()\n",
    "S.boxplot(x=X['median_income'])"
   ]
  },
  {
   "cell_type": "code",
   "execution_count": 1070,
   "metadata": {},
   "outputs": [
    {
     "data": {
      "text/plain": [
       "<seaborn.axisgrid.FacetGrid at 0x7f75d15c0e20>"
      ]
     },
     "execution_count": 1070,
     "metadata": {},
     "output_type": "execute_result"
    },
    {
     "data": {
      "text/plain": [
       "<Figure size 648x648 with 0 Axes>"
      ]
     },
     "metadata": {},
     "output_type": "display_data"
    },
    {
     "data": {
      "image/png": "[encoded data removed]",
      "text/plain": [
       "<Figure size 360x360 with 1 Axes>"
      ]
     },
     "metadata": {},
     "output_type": "display_data"
    }
   ],
   "source": [
    "p = PP.figure(figsize=(9, 9))\n",
    "X, Y = initialXY()\n",
    "T = X\n",
    "T['median_house_value'] = Y\n",
    "\n",
    "S.catplot(x=\"median_income\", kind=\"violin\", data=T)"
   ]
  },
  {
   "cell_type": "code",
   "execution_count": 1119,
   "metadata": {},
   "outputs": [
    {
     "data": {
      "text/html": [
       "<div>\n",
       "<style scoped>\n",
       "    .dataframe tbody tr th:only-of-type {\n",
       "        vertical-align: middle;\n",
       "    }\n",
       "\n",
       "    .dataframe tbody tr th {\n",
       "        vertical-align: top;\n",
       "    }\n",
       "\n",
       "    .dataframe thead th {\n",
       "        text-align: right;\n",
       "    }\n",
       "</style>\n",
       "<table border=\"1\" class=\"dataframe\">\n",
       "  <thead>\n",
       "    <tr style=\"text-align: right;\">\n",
       "      <th></th>\n",
       "      <th>longitude</th>\n",
       "      <th>latitude</th>\n",
       "      <th>housing_median_age</th>\n",
       "      <th>total_rooms</th>\n",
       "      <th>total_bedrooms</th>\n",
       "      <th>population</th>\n",
       "      <th>households</th>\n",
       "      <th>median_income</th>\n",
       "      <th>median_house_value</th>\n",
       "      <th>ocean_proximity</th>\n",
       "    </tr>\n",
       "  </thead>\n",
       "  <tbody>\n",
       "    <tr>\n",
       "      <th>10968</th>\n",
       "      <td>0.645418</td>\n",
       "      <td>0.130712</td>\n",
       "      <td>1.000000</td>\n",
       "      <td>0.063838</td>\n",
       "      <td>0.055090</td>\n",
       "      <td>0.027327</td>\n",
       "      <td>0.059859</td>\n",
       "      <td>0.522648</td>\n",
       "      <td>0.629484</td>\n",
       "      <td>&lt;1H OCEAN</td>\n",
       "    </tr>\n",
       "    <tr>\n",
       "      <th>5957</th>\n",
       "      <td>0.645418</td>\n",
       "      <td>0.168969</td>\n",
       "      <td>0.549020</td>\n",
       "      <td>0.042601</td>\n",
       "      <td>0.063935</td>\n",
       "      <td>0.024384</td>\n",
       "      <td>0.065614</td>\n",
       "      <td>0.180694</td>\n",
       "      <td>0.369691</td>\n",
       "      <td>&lt;1H OCEAN</td>\n",
       "    </tr>\n",
       "    <tr>\n",
       "      <th>543</th>\n",
       "      <td>0.206175</td>\n",
       "      <td>0.556854</td>\n",
       "      <td>0.960784</td>\n",
       "      <td>0.037769</td>\n",
       "      <td>0.047331</td>\n",
       "      <td>0.020376</td>\n",
       "      <td>0.053610</td>\n",
       "      <td>0.138895</td>\n",
       "      <td>0.420619</td>\n",
       "      <td>NEAR BAY</td>\n",
       "    </tr>\n",
       "    <tr>\n",
       "      <th>17118</th>\n",
       "      <td>0.220120</td>\n",
       "      <td>0.527099</td>\n",
       "      <td>0.882353</td>\n",
       "      <td>0.000712</td>\n",
       "      <td>0.000466</td>\n",
       "      <td>0.000280</td>\n",
       "      <td>0.000658</td>\n",
       "      <td>1.000000</td>\n",
       "      <td>1.000000</td>\n",
       "      <td>NEAR BAY</td>\n",
       "    </tr>\n",
       "    <tr>\n",
       "      <th>20621</th>\n",
       "      <td>0.286853</td>\n",
       "      <td>0.687566</td>\n",
       "      <td>0.705882</td>\n",
       "      <td>0.031589</td>\n",
       "      <td>0.038175</td>\n",
       "      <td>0.013481</td>\n",
       "      <td>0.025654</td>\n",
       "      <td>0.128702</td>\n",
       "      <td>0.128868</td>\n",
       "      <td>INLAND</td>\n",
       "    </tr>\n",
       "    <tr>\n",
       "      <th>10698</th>\n",
       "      <td>0.657371</td>\n",
       "      <td>0.112646</td>\n",
       "      <td>0.078431</td>\n",
       "      <td>0.125693</td>\n",
       "      <td>0.180478</td>\n",
       "      <td>0.048320</td>\n",
       "      <td>0.155731</td>\n",
       "      <td>0.303451</td>\n",
       "      <td>0.496082</td>\n",
       "      <td>&lt;1H OCEAN</td>\n",
       "    </tr>\n",
       "    <tr>\n",
       "      <th>19088</th>\n",
       "      <td>0.180279</td>\n",
       "      <td>0.618491</td>\n",
       "      <td>0.764706</td>\n",
       "      <td>0.069256</td>\n",
       "      <td>0.082247</td>\n",
       "      <td>0.032624</td>\n",
       "      <td>0.075152</td>\n",
       "      <td>0.227376</td>\n",
       "      <td>0.387217</td>\n",
       "      <td>&lt;1H OCEAN</td>\n",
       "    </tr>\n",
       "    <tr>\n",
       "      <th>9800</th>\n",
       "      <td>0.242032</td>\n",
       "      <td>0.427205</td>\n",
       "      <td>0.764706</td>\n",
       "      <td>0.053970</td>\n",
       "      <td>0.069522</td>\n",
       "      <td>0.017938</td>\n",
       "      <td>0.055912</td>\n",
       "      <td>0.345961</td>\n",
       "      <td>0.730102</td>\n",
       "      <td>NEAR OCEAN</td>\n",
       "    </tr>\n",
       "    <tr>\n",
       "      <th>5930</th>\n",
       "      <td>0.653386</td>\n",
       "      <td>0.166844</td>\n",
       "      <td>0.333333</td>\n",
       "      <td>0.096953</td>\n",
       "      <td>0.111732</td>\n",
       "      <td>0.052636</td>\n",
       "      <td>0.113633</td>\n",
       "      <td>0.273948</td>\n",
       "      <td>0.413609</td>\n",
       "      <td>INLAND</td>\n",
       "    </tr>\n",
       "    <tr>\n",
       "      <th>2570</th>\n",
       "      <td>0.020916</td>\n",
       "      <td>0.874601</td>\n",
       "      <td>0.509804</td>\n",
       "      <td>0.077420</td>\n",
       "      <td>0.093731</td>\n",
       "      <td>0.039351</td>\n",
       "      <td>0.093735</td>\n",
       "      <td>0.166508</td>\n",
       "      <td>0.174434</td>\n",
       "      <td>NEAR OCEAN</td>\n",
       "    </tr>\n",
       "  </tbody>\n",
       "</table>\n",
       "</div>"
      ],
      "text/plain": [
       "       longitude  latitude  housing_median_age  total_rooms  total_bedrooms  \\\n",
       "10968   0.645418  0.130712            1.000000     0.063838        0.055090   \n",
       "5957    0.645418  0.168969            0.549020     0.042601        0.063935   \n",
       "543     0.206175  0.556854            0.960784     0.037769        0.047331   \n",
       "17118   0.220120  0.527099            0.882353     0.000712        0.000466   \n",
       "20621   0.286853  0.687566            0.705882     0.031589        0.038175   \n",
       "10698   0.657371  0.112646            0.078431     0.125693        0.180478   \n",
       "19088   0.180279  0.618491            0.764706     0.069256        0.082247   \n",
       "9800    0.242032  0.427205            0.764706     0.053970        0.069522   \n",
       "5930    0.653386  0.166844            0.333333     0.096953        0.111732   \n",
       "2570    0.020916  0.874601            0.509804     0.077420        0.093731   \n",
       "\n",
       "       population  households  median_income  median_house_value  \\\n",
       "10968    0.027327    0.059859       0.522648            0.629484   \n",
       "5957     0.024384    0.065614       0.180694            0.369691   \n",
       "543      0.020376    0.053610       0.138895            0.420619   \n",
       "17118    0.000280    0.000658       1.000000            1.000000   \n",
       "20621    0.013481    0.025654       0.128702            0.128868   \n",
       "10698    0.048320    0.155731       0.303451            0.496082   \n",
       "19088    0.032624    0.075152       0.227376            0.387217   \n",
       "9800     0.017938    0.055912       0.345961            0.730102   \n",
       "5930     0.052636    0.113633       0.273948            0.413609   \n",
       "2570     0.039351    0.093735       0.166508            0.174434   \n",
       "\n",
       "      ocean_proximity  \n",
       "10968       <1H OCEAN  \n",
       "5957        <1H OCEAN  \n",
       "543          NEAR BAY  \n",
       "17118        NEAR BAY  \n",
       "20621          INLAND  \n",
       "10698       <1H OCEAN  \n",
       "19088       <1H OCEAN  \n",
       "9800       NEAR OCEAN  \n",
       "5930           INLAND  \n",
       "2570       NEAR OCEAN  "
      ]
     },
     "execution_count": 1119,
     "metadata": {},
     "output_type": "execute_result"
    },
    {
     "data": {
      "text/plain": [
       "<Figure size 648x648 with 0 Axes>"
      ]
     },
     "metadata": {},
     "output_type": "display_data"
    }
   ],
   "source": [
    "p = PP.figure(figsize=(9, 9))\n",
    "\n",
    "T = table.copy()\n",
    "# T = get_dummies(T)\n",
    "# T = P.DataFrame(MinMaxScaler().fit_transform(T), columns=T.columns)\n",
    "_T = drop_column(['ocean_proximity'])(T)\n",
    "_T = P.DataFrame(MinMaxScaler().fit_transform(_T), columns=_T.columns)\n",
    "_T['ocean_proximity'] = T['ocean_proximity']\n",
    "_T.sample(10)\n",
    "# S.catplot(x=\"median_income\", y='median_house_value', hue='ocean_proximity', data=_T)"
   ]
  },
  {
   "cell_type": "code",
   "execution_count": null,
   "metadata": {},
   "outputs": [],
   "source": [
    "X, Y = initialXY()\n",
    "X = get_dummies(X)\n",
    "\n",
    "X_train, X_test, Y_train, Y_test = train_test_split(X, Y, test_size=0.2, random_state=42)\n",
    "f = fit(X_train)(Y_train)\n",
    "p = predict(X_test)(f)\n",
    "X.describe()\n"
   ]
  },
  {
   "cell_type": "code",
   "execution_count": null,
   "metadata": {},
   "outputs": [],
   "source": [
    "# %%\n",
    "\n",
    "X, Y = initialXY()\n",
    "# X = drop_column(['ocean_proximity', 'latitude', 'longitude'])(X)\n",
    "Y.hist()\n",
    "# for k in X:\n",
    "#     X[[k]].hist()\n",
    "X[['median_income', 'longitude', 'latitude']].hist()"
   ]
  },
  {
   "cell_type": "code",
   "execution_count": null,
   "metadata": {},
   "outputs": [],
   "source": [
    "\n",
    "plt.style.use('seaborn-dark')\n",
    "x = N.linspace(0, 20, 100)\n",
    "plt.plot(x, N.sin(x))\n",
    "plt.show() "
   ]
  },
  {
   "cell_type": "code",
   "execution_count": null,
   "metadata": {},
   "outputs": [],
   "source": [
    "import matplotlib.pyplot as plt\n",
    "import numpy as np\n",
    "import mpld3\n",
    "\n",
    "mpld3.enable_notebook()\n",
    "fig, ax = plt.subplots(subplot_kw=dict(axisbg='#EEEEEE'))\n",
    "ax.grid(color='white', linestyle='solid')\n",
    "N = 50\n",
    "scatter = ax.scatter(np.random.normal(size=N),\n",
    "                     np.random.normal(size=N),\n",
    "                     c=np.random.random(size=N),\n",
    "                     s = 1000 * np.random.random(size=N),\n",
    "                     alpha=0.3,\n",
    "                     cmap=plt.cm.jet)\n",
    "ax.set_title(\"D3 Scatter Plot\", size=18);"
   ]
  },
  {
   "cell_type": "code",
   "execution_count": null,
   "metadata": {},
   "outputs": [],
   "source": [
    "# correlação\n",
    "numeric_columns = table.select_dtypes(['float64', 'int64'])\n",
    "corr = numeric_columns.loc[:, numeric_columns.columns != 'median_house_value'].corrwith(numeric_columns['median_house_value'])\n",
    "print(corr.sort_values())"
   ]
  },
  {
   "cell_type": "code",
   "execution_count": 1191,
   "metadata": {},
   "outputs": [
    {
     "data": {
      "text/plain": [
       "0.6257351821159713"
      ]
     },
     "execution_count": 1191,
     "metadata": {},
     "output_type": "execute_result"
    }
   ],
   "source": [
    "X, Y = initialXY()\n",
    "X = P.get_dummies(X, drop_first=True)\n",
    "X_train, X_test, Y_train, Y_test = split_sample(X)(Y)\n",
    "\n",
    "L.LinearRegression().fit(X_train, Y_train).score(X_test, Y_test)\n"
   ]
  },
  {
   "cell_type": "code",
   "execution_count": 1207,
   "metadata": {},
   "outputs": [
    {
     "name": "stdout",
     "output_type": "stream",
     "text": [
      "119600.0 264725.0\n",
      "bounds:  482412.5 -98087.5\n",
      "BEFORE\n",
      "shape: 0        452600.0\n",
      "1        358500.0\n",
      "2        352100.0\n",
      "3        341300.0\n",
      "4        342200.0\n",
      "           ...   \n",
      "20635     78100.0\n",
      "20636     77100.0\n",
      "20637     92300.0\n",
      "20638     84700.0\n",
      "20639     89400.0\n",
      "Name: median_house_value, Length: 20640, dtype: float64\n",
      "max 500001.0\n",
      "min 14999.0\n",
      "AFTER 0        452600.0\n",
      "1        358500.0\n",
      "2        352100.0\n",
      "3        341300.0\n",
      "4        342200.0\n",
      "           ...   \n",
      "20635     78100.0\n",
      "20636     77100.0\n",
      "20637     92300.0\n",
      "20638     84700.0\n",
      "20639     89400.0\n",
      "Name: median_house_value, Length: 20640, dtype: float64\n",
      "shape: 0        452600.0\n",
      "1        358500.0\n",
      "2        352100.0\n",
      "3        341300.0\n",
      "4        342200.0\n",
      "           ...   \n",
      "20635     78100.0\n",
      "20636     77100.0\n",
      "20637     92300.0\n",
      "20638     84700.0\n",
      "20639     89400.0\n",
      "Name: median_house_value, Length: 20640, dtype: float64\n",
      "max 500001.0\n",
      "min 14999.0\n"
     ]
    },
    {
     "name": "stderr",
     "output_type": "stream",
     "text": [
      "/nix/store/3a6ardk55mlcynrs7hn4l4vynbm6wp7w-python3-3.9.10-env/lib/python3.9/site-packages/seaborn/_decorators.py:36: FutureWarning: Pass the following variable as a keyword arg: x. From version 0.12, the only valid positional argument will be `data`, and passing other arguments without an explicit keyword will result in an error or misinterpretation.\n",
      "  warnings.warn(\n"
     ]
    },
    {
     "data": {
      "text/plain": [
       "0"
      ]
     },
     "execution_count": 1207,
     "metadata": {},
     "output_type": "execute_result"
    },
    {
     "data": {
      "image/png": "[encoded data removed]",
      "text/plain": [
       "<Figure size 432x288 with 1 Axes>"
      ]
     },
     "metadata": {},
     "output_type": "display_data"
    }
   ],
   "source": [
    "\n",
    "T = table.copy()\n",
    "median_income = T['median_house_value'].copy()\n",
    "Q3 = N.percentile(median_income, 75)\n",
    "Q2 = N.percentile(median_income, 25)\n",
    "print(Q2, Q3)\n",
    "IQR = Q3 - Q2\n",
    "\n",
    "upper_bound = Q3 + 1.5 * IQR\n",
    "lower_bound = Q2 - 1.5 * IQR\n",
    "\n",
    "print('bounds: ', upper_bound, lower_bound)\n",
    "\n",
    "upper, = N.where(median_income >= upper_bound)\n",
    "lower, = N.where(median_income <  lower_bound)\n",
    "\n",
    "print('BEFORE')\n",
    "print(\"shape:\", median_income)\n",
    "print(\"max\", median_income.max())\n",
    "print(\"min\", median_income.min())\n",
    "# median_income.drop(upper, inplace = True)\n",
    "# median_income.drop(lower, inplace = True)\n",
    "\n",
    "T['median_house_value'] = median_income.drop(upper)\n",
    "T['median_house_value']  = T['median_house_value'].fillna(upper_bound)\n",
    "\n",
    "\n",
    "T['median_house_value'] = median_income.drop(lower)\n",
    "T['median_house_value']  = T['median_house_value'].fillna(lower_bound)\n",
    "\n",
    "print(\"AFTER\", median_income)\n",
    "print(\"shape:\", median_income)\n",
    "print(\"max\", median_income.max())\n",
    "print(\"min\", median_income.min())\n",
    "\n",
    "S.boxplot(median_income)\n",
    "N.isnan(T['median_house_value']).sum()\n"
   ]
  },
  {
   "cell_type": "code",
   "execution_count": 1154,
   "metadata": {},
   "outputs": [
    {
     "name": "stdout",
     "output_type": "stream",
     "text": [
      "[   89   140   459 ... 20427 20436 20443]\n"
     ]
    },
    {
     "data": {
      "text/html": [
       "<div>\n",
       "<style scoped>\n",
       "    .dataframe tbody tr th:only-of-type {\n",
       "        vertical-align: middle;\n",
       "    }\n",
       "\n",
       "    .dataframe tbody tr th {\n",
       "        vertical-align: top;\n",
       "    }\n",
       "\n",
       "    .dataframe thead th {\n",
       "        text-align: right;\n",
       "    }\n",
       "</style>\n",
       "<table border=\"1\" class=\"dataframe\">\n",
       "  <thead>\n",
       "    <tr style=\"text-align: right;\">\n",
       "      <th></th>\n",
       "      <th>0</th>\n",
       "    </tr>\n",
       "  </thead>\n",
       "  <tbody>\n",
       "    <tr>\n",
       "      <th>0</th>\n",
       "      <td>89</td>\n",
       "    </tr>\n",
       "    <tr>\n",
       "      <th>1</th>\n",
       "      <td>140</td>\n",
       "    </tr>\n",
       "    <tr>\n",
       "      <th>2</th>\n",
       "      <td>459</td>\n",
       "    </tr>\n",
       "    <tr>\n",
       "      <th>3</th>\n",
       "      <td>489</td>\n",
       "    </tr>\n",
       "    <tr>\n",
       "      <th>4</th>\n",
       "      <td>493</td>\n",
       "    </tr>\n",
       "    <tr>\n",
       "      <th>...</th>\n",
       "      <td>...</td>\n",
       "    </tr>\n",
       "    <tr>\n",
       "      <th>1066</th>\n",
       "      <td>20422</td>\n",
       "    </tr>\n",
       "    <tr>\n",
       "      <th>1067</th>\n",
       "      <td>20426</td>\n",
       "    </tr>\n",
       "    <tr>\n",
       "      <th>1068</th>\n",
       "      <td>20427</td>\n",
       "    </tr>\n",
       "    <tr>\n",
       "      <th>1069</th>\n",
       "      <td>20436</td>\n",
       "    </tr>\n",
       "    <tr>\n",
       "      <th>1070</th>\n",
       "      <td>20443</td>\n",
       "    </tr>\n",
       "  </tbody>\n",
       "</table>\n",
       "<p>1071 rows × 1 columns</p>\n",
       "</div>"
      ],
      "text/plain": [
       "          0\n",
       "0        89\n",
       "1       140\n",
       "2       459\n",
       "3       489\n",
       "4       493\n",
       "...     ...\n",
       "1066  20422\n",
       "1067  20426\n",
       "1068  20427\n",
       "1069  20436\n",
       "1070  20443\n",
       "\n",
       "[1071 rows x 1 columns]"
      ]
     },
     "execution_count": 1154,
     "metadata": {},
     "output_type": "execute_result"
    }
   ],
   "source": [
    "print(upper)\n",
    "P.DataFrame(upper)"
   ]
  },
  {
   "cell_type": "code",
   "execution_count": 1127,
   "metadata": {},
   "outputs": [
    {
     "name": "stderr",
     "output_type": "stream",
     "text": [
      "/nix/store/3a6ardk55mlcynrs7hn4l4vynbm6wp7w-python3-3.9.10-env/lib/python3.9/site-packages/seaborn/distributions.py:2619: FutureWarning: `distplot` is a deprecated function and will be removed in a future version. Please adapt your code to use either `displot` (a figure-level function with similar flexibility) or `histplot` (an axes-level function for histograms).\n",
      "  warnings.warn(msg, FutureWarning)\n",
      "/nix/store/3a6ardk55mlcynrs7hn4l4vynbm6wp7w-python3-3.9.10-env/lib/python3.9/site-packages/seaborn/distributions.py:2619: FutureWarning: `distplot` is a deprecated function and will be removed in a future version. Please adapt your code to use either `displot` (a figure-level function with similar flexibility) or `histplot` (an axes-level function for histograms).\n",
      "  warnings.warn(msg, FutureWarning)\n"
     ]
    },
    {
     "data": {
      "image/png": "[encoded data removed]",
      "text/plain": [
       "<Figure size 1152x360 with 2 Axes>"
      ]
     },
     "metadata": {},
     "output_type": "display_data"
    }
   ],
   "source": [
    "PP.figure(figsize=(16,5))\n",
    "PP.subplot(1,2,1)\n",
    "S.distplot(T['median_income'])\n",
    "PP.subplot(1,2,2)\n",
    "S.distplot(T['median_house_value'])\n",
    "PP.show()"
   ]
  },
  {
   "cell_type": "code",
   "execution_count": 1129,
   "metadata": {},
   "outputs": [
    {
     "name": "stderr",
     "output_type": "stream",
     "text": [
      "/nix/store/3a6ardk55mlcynrs7hn4l4vynbm6wp7w-python3-3.9.10-env/lib/python3.9/site-packages/seaborn/_decorators.py:36: FutureWarning: Pass the following variable as a keyword arg: x. From version 0.12, the only valid positional argument will be `data`, and passing other arguments without an explicit keyword will result in an error or misinterpretation.\n",
      "  warnings.warn(\n",
      "/nix/store/3a6ardk55mlcynrs7hn4l4vynbm6wp7w-python3-3.9.10-env/lib/python3.9/site-packages/seaborn/_decorators.py:36: FutureWarning: Pass the following variable as a keyword arg: x. From version 0.12, the only valid positional argument will be `data`, and passing other arguments without an explicit keyword will result in an error or misinterpretation.\n",
      "  warnings.warn(\n"
     ]
    },
    {
     "data": {
      "image/png": "[encoded data removed]",
      "text/plain": [
       "<Figure size 1152x360 with 2 Axes>"
      ]
     },
     "metadata": {},
     "output_type": "display_data"
    }
   ],
   "source": [
    "PP.figure(figsize=(16,5))\n",
    "PP.subplot(1,2,1)\n",
    "S.boxplot(T['median_income'])\n",
    "PP.subplot(1,2,2)\n",
    "S.boxplot(T['median_house_value'])\n",
    "PP.show()\n"
   ]
  }
 ],
 "metadata": {
  "interpreter": {
   "hash": "498f8551b333178ea7c7f3ba1f659ea2237ccaaf4c538984a13ac382ac2753e2"
  },
  "kernelspec": {
   "display_name": "Python 3.9.10 64-bit",
   "name": "python3"
  },
  "language_info": {
   "codemirror_mode": {
    "name": "ipython",
    "version": 3
   },
   "file_extension": ".py",
   "mimetype": "text/x-python",
   "name": "python",
   "nbconvert_exporter": "python",
   "pygments_lexer": "ipython3",
   "version": "3.9.10"
  },
  "orig_nbformat": 4
 },
 "nbformat": 4,
 "nbformat_minor": 2
}
